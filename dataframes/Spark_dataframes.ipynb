{
 "cells": [
  {
   "cell_type": "code",
   "execution_count": 101,
   "metadata": {},
   "outputs": [],
   "source": [
    "from pyspark.sql import SparkSession"
   ]
  },
  {
   "cell_type": "code",
   "execution_count": 102,
   "metadata": {},
   "outputs": [],
   "source": [
    "spark = SparkSession.builder.appName(\"Spark_dataframe\").getOrCreate()"
   ]
  },
  {
   "cell_type": "code",
   "execution_count": 103,
   "metadata": {},
   "outputs": [],
   "source": [
    "df = spark.read.csv('../data/titanic.csv',inferSchema=True,header=True)"
   ]
  },
  {
   "cell_type": "code",
   "execution_count": 104,
   "metadata": {},
   "outputs": [
    {
     "name": "stdout",
     "output_type": "stream",
     "text": [
      "+-----------+--------+------+--------------------+------+----+-----+-----+----------------+-------+-----+--------+\n",
      "|PassengerId|Survived|Pclass|                Name|   Sex| Age|SibSp|Parch|          Ticket|   Fare|Cabin|Embarked|\n",
      "+-----------+--------+------+--------------------+------+----+-----+-----+----------------+-------+-----+--------+\n",
      "|          1|       0|     3|Braund, Mr. Owen ...|  male|22.0|    1|    0|       A/5 21171|   7.25| null|       S|\n",
      "|          2|       1|     1|Cumings, Mrs. Joh...|female|38.0|    1|    0|        PC 17599|71.2833|  C85|       C|\n",
      "|          3|       1|     3|Heikkinen, Miss. ...|female|26.0|    0|    0|STON/O2. 3101282|  7.925| null|       S|\n",
      "|          4|       1|     1|Futrelle, Mrs. Ja...|female|35.0|    1|    0|          113803|   53.1| C123|       S|\n",
      "|          5|       0|     3|Allen, Mr. Willia...|  male|35.0|    0|    0|          373450|   8.05| null|       S|\n",
      "|          6|       0|     3|    Moran, Mr. James|  male|null|    0|    0|          330877| 8.4583| null|       Q|\n",
      "|          7|       0|     1|McCarthy, Mr. Tim...|  male|54.0|    0|    0|           17463|51.8625|  E46|       S|\n",
      "|          8|       0|     3|Palsson, Master. ...|  male| 2.0|    3|    1|          349909| 21.075| null|       S|\n",
      "|          9|       1|     3|Johnson, Mrs. Osc...|female|27.0|    0|    2|          347742|11.1333| null|       S|\n",
      "|         10|       1|     2|Nasser, Mrs. Nich...|female|14.0|    1|    0|          237736|30.0708| null|       C|\n",
      "|         11|       1|     3|Sandstrom, Miss. ...|female| 4.0|    1|    1|         PP 9549|   16.7|   G6|       S|\n",
      "|         12|       1|     1|Bonnell, Miss. El...|female|58.0|    0|    0|          113783|  26.55| C103|       S|\n",
      "|         13|       0|     3|Saundercock, Mr. ...|  male|20.0|    0|    0|       A/5. 2151|   8.05| null|       S|\n",
      "|         14|       0|     3|Andersson, Mr. An...|  male|39.0|    1|    5|          347082| 31.275| null|       S|\n",
      "|         15|       0|     3|Vestrom, Miss. Hu...|female|14.0|    0|    0|          350406| 7.8542| null|       S|\n",
      "|         16|       1|     2|Hewlett, Mrs. (Ma...|female|55.0|    0|    0|          248706|   16.0| null|       S|\n",
      "|         17|       0|     3|Rice, Master. Eugene|  male| 2.0|    4|    1|          382652| 29.125| null|       Q|\n",
      "|         18|       1|     2|Williams, Mr. Cha...|  male|null|    0|    0|          244373|   13.0| null|       S|\n",
      "|         19|       0|     3|Vander Planke, Mr...|female|31.0|    1|    0|          345763|   18.0| null|       S|\n",
      "|         20|       1|     3|Masselmani, Mrs. ...|female|null|    0|    0|            2649|  7.225| null|       C|\n",
      "+-----------+--------+------+--------------------+------+----+-----+-----+----------------+-------+-----+--------+\n",
      "only showing top 20 rows\n",
      "\n"
     ]
    }
   ],
   "source": [
    "df.show()"
   ]
  },
  {
   "cell_type": "code",
   "execution_count": 105,
   "metadata": {},
   "outputs": [
    {
     "name": "stdout",
     "output_type": "stream",
     "text": [
      "root\n",
      " |-- PassengerId: integer (nullable = true)\n",
      " |-- Survived: integer (nullable = true)\n",
      " |-- Pclass: integer (nullable = true)\n",
      " |-- Name: string (nullable = true)\n",
      " |-- Sex: string (nullable = true)\n",
      " |-- Age: double (nullable = true)\n",
      " |-- SibSp: integer (nullable = true)\n",
      " |-- Parch: integer (nullable = true)\n",
      " |-- Ticket: string (nullable = true)\n",
      " |-- Fare: double (nullable = true)\n",
      " |-- Cabin: string (nullable = true)\n",
      " |-- Embarked: string (nullable = true)\n",
      "\n"
     ]
    }
   ],
   "source": [
    "df.printSchema()"
   ]
  },
  {
   "cell_type": "markdown",
   "metadata": {},
   "source": [
    "## Queries"
   ]
  },
  {
   "cell_type": "markdown",
   "metadata": {},
   "source": [
    "select"
   ]
  },
  {
   "cell_type": "code",
   "execution_count": 106,
   "metadata": {},
   "outputs": [
    {
     "name": "stdout",
     "output_type": "stream",
     "text": [
      "+--------------------+\n",
      "|                Name|\n",
      "+--------------------+\n",
      "|Braund, Mr. Owen ...|\n",
      "|Cumings, Mrs. Joh...|\n",
      "|Heikkinen, Miss. ...|\n",
      "|Futrelle, Mrs. Ja...|\n",
      "|Allen, Mr. Willia...|\n",
      "|    Moran, Mr. James|\n",
      "|McCarthy, Mr. Tim...|\n",
      "|Palsson, Master. ...|\n",
      "|Johnson, Mrs. Osc...|\n",
      "|Nasser, Mrs. Nich...|\n",
      "|Sandstrom, Miss. ...|\n",
      "|Bonnell, Miss. El...|\n",
      "|Saundercock, Mr. ...|\n",
      "|Andersson, Mr. An...|\n",
      "|Vestrom, Miss. Hu...|\n",
      "|Hewlett, Mrs. (Ma...|\n",
      "|Rice, Master. Eugene|\n",
      "|Williams, Mr. Cha...|\n",
      "|Vander Planke, Mr...|\n",
      "|Masselmani, Mrs. ...|\n",
      "+--------------------+\n",
      "only showing top 20 rows\n",
      "\n"
     ]
    }
   ],
   "source": [
    "df.select(\"Name\").show()"
   ]
  },
  {
   "cell_type": "code",
   "execution_count": 107,
   "metadata": {},
   "outputs": [
    {
     "name": "stdout",
     "output_type": "stream",
     "text": [
      "+--------------------+--------+\n",
      "|                Name|Survived|\n",
      "+--------------------+--------+\n",
      "|Braund, Mr. Owen ...|       0|\n",
      "|Cumings, Mrs. Joh...|       1|\n",
      "|Heikkinen, Miss. ...|       1|\n",
      "|Futrelle, Mrs. Ja...|       1|\n",
      "|Allen, Mr. Willia...|       0|\n",
      "|    Moran, Mr. James|       0|\n",
      "|McCarthy, Mr. Tim...|       0|\n",
      "|Palsson, Master. ...|       0|\n",
      "|Johnson, Mrs. Osc...|       1|\n",
      "|Nasser, Mrs. Nich...|       1|\n",
      "|Sandstrom, Miss. ...|       1|\n",
      "|Bonnell, Miss. El...|       1|\n",
      "|Saundercock, Mr. ...|       0|\n",
      "|Andersson, Mr. An...|       0|\n",
      "|Vestrom, Miss. Hu...|       0|\n",
      "|Hewlett, Mrs. (Ma...|       1|\n",
      "|Rice, Master. Eugene|       0|\n",
      "|Williams, Mr. Cha...|       1|\n",
      "|Vander Planke, Mr...|       0|\n",
      "|Masselmani, Mrs. ...|       1|\n",
      "+--------------------+--------+\n",
      "only showing top 20 rows\n",
      "\n"
     ]
    }
   ],
   "source": [
    "df.select(\"Name\", \"Survived\").show()"
   ]
  },
  {
   "cell_type": "code",
   "execution_count": 108,
   "metadata": {},
   "outputs": [],
   "source": [
    "from pyspark.sql import functions as F"
   ]
  },
  {
   "cell_type": "code",
   "execution_count": 109,
   "metadata": {},
   "outputs": [
    {
     "name": "stdout",
     "output_type": "stream",
     "text": [
      "+--------------------+--------------------------------------+\n",
      "|                Name|CASE WHEN (Age > 30) THEN 1 ELSE 0 END|\n",
      "+--------------------+--------------------------------------+\n",
      "|Braund, Mr. Owen ...|                                     0|\n",
      "|Cumings, Mrs. Joh...|                                     1|\n",
      "|Heikkinen, Miss. ...|                                     0|\n",
      "|Futrelle, Mrs. Ja...|                                     1|\n",
      "|Allen, Mr. Willia...|                                     1|\n",
      "|    Moran, Mr. James|                                     0|\n",
      "|McCarthy, Mr. Tim...|                                     1|\n",
      "|Palsson, Master. ...|                                     0|\n",
      "|Johnson, Mrs. Osc...|                                     0|\n",
      "|Nasser, Mrs. Nich...|                                     0|\n",
      "|Sandstrom, Miss. ...|                                     0|\n",
      "|Bonnell, Miss. El...|                                     1|\n",
      "|Saundercock, Mr. ...|                                     0|\n",
      "|Andersson, Mr. An...|                                     1|\n",
      "|Vestrom, Miss. Hu...|                                     0|\n",
      "|Hewlett, Mrs. (Ma...|                                     1|\n",
      "|Rice, Master. Eugene|                                     0|\n",
      "|Williams, Mr. Cha...|                                     0|\n",
      "|Vander Planke, Mr...|                                     1|\n",
      "|Masselmani, Mrs. ...|                                     0|\n",
      "+--------------------+--------------------------------------+\n",
      "only showing top 20 rows\n",
      "\n"
     ]
    }
   ],
   "source": [
    "df.select(\"Name\", F.when(df.Age > 30, 1).otherwise(0) ).show()"
   ]
  },
  {
   "cell_type": "code",
   "execution_count": 110,
   "metadata": {},
   "outputs": [
    {
     "name": "stdout",
     "output_type": "stream",
     "text": [
      "+-----------+--------+------+--------------------+----+----+-----+-----+---------+------+-----+--------+\n",
      "|PassengerId|Survived|Pclass|                Name| Sex| Age|SibSp|Parch|   Ticket|  Fare|Cabin|Embarked|\n",
      "+-----------+--------+------+--------------------+----+----+-----+-----+---------+------+-----+--------+\n",
      "|          1|       0|     3|Braund, Mr. Owen ...|male|22.0|    1|    0|A/5 21171|  7.25| null|       S|\n",
      "|        478|       0|     3|Braund, Mr. Lewis...|male|29.0|    1|    0|     3460|7.0458| null|       S|\n",
      "+-----------+--------+------+--------------------+----+----+-----+-----+---------+------+-----+--------+\n",
      "\n"
     ]
    }
   ],
   "source": [
    "df[df.Name.like(\"Braund%\")].show()"
   ]
  },
  {
   "cell_type": "code",
   "execution_count": 111,
   "metadata": {},
   "outputs": [
    {
     "name": "stdout",
     "output_type": "stream",
     "text": [
      "+-----------+--------+------+--------------------+----+----+-----+-----+---------+------+-----+--------+\n",
      "|PassengerId|Survived|Pclass|                Name| Sex| Age|SibSp|Parch|   Ticket|  Fare|Cabin|Embarked|\n",
      "+-----------+--------+------+--------------------+----+----+-----+-----+---------+------+-----+--------+\n",
      "|          1|       0|     3|Braund, Mr. Owen ...|male|22.0|    1|    0|A/5 21171|  7.25| null|       S|\n",
      "|        478|       0|     3|Braund, Mr. Lewis...|male|29.0|    1|    0|     3460|7.0458| null|       S|\n",
      "+-----------+--------+------+--------------------+----+----+-----+-----+---------+------+-----+--------+\n",
      "\n"
     ]
    }
   ],
   "source": [
    "df[df.Name.startswith(\"Braund\")].show()"
   ]
  },
  {
   "cell_type": "code",
   "execution_count": 112,
   "metadata": {},
   "outputs": [
    {
     "name": "stdout",
     "output_type": "stream",
     "text": [
      "+-----------+--------+------+----+---+---+-----+-----+------+----+-----+--------+\n",
      "|PassengerId|Survived|Pclass|Name|Sex|Age|SibSp|Parch|Ticket|Fare|Cabin|Embarked|\n",
      "+-----------+--------+------+----+---+---+-----+-----+------+----+-----+--------+\n",
      "+-----------+--------+------+----+---+---+-----+-----+------+----+-----+--------+\n",
      "\n"
     ]
    }
   ],
   "source": [
    "df[df.Name.endswith(\"Braund\")].show()"
   ]
  },
  {
   "cell_type": "code",
   "execution_count": 113,
   "metadata": {},
   "outputs": [
    {
     "name": "stdout",
     "output_type": "stream",
     "text": [
      "+-----------+--------+------+--------------------+------+----+-----+-----+----------------+-------+-----+--------+\n",
      "|PassengerId|Survived|Pclass|                Name|   Sex| Age|SibSp|Parch|          Ticket|   Fare|Cabin|Embarked|\n",
      "+-----------+--------+------+--------------------+------+----+-----+-----+----------------+-------+-----+--------+\n",
      "|          1|       0|     3|Braund, Mr. Owen ...|  male|22.0|    1|    0|       A/5 21171|   7.25| null|       S|\n",
      "|          3|       1|     3|Heikkinen, Miss. ...|female|26.0|    0|    0|STON/O2. 3101282|  7.925| null|       S|\n",
      "|          9|       1|     3|Johnson, Mrs. Osc...|female|27.0|    0|    2|          347742|11.1333| null|       S|\n",
      "|         13|       0|     3|Saundercock, Mr. ...|  male|20.0|    0|    0|       A/5. 2151|   8.05| null|       S|\n",
      "|         24|       1|     1|Sloper, Mr. Willi...|  male|28.0|    0|    0|          113788|   35.5|   A6|       S|\n",
      "|         35|       0|     1|Meyer, Mr. Edgar ...|  male|28.0|    1|    0|        PC 17604|82.1708| null|       C|\n",
      "|         38|       0|     3|Cann, Mr. Ernest ...|  male|21.0|    0|    0|      A./5. 2152|   8.05| null|       S|\n",
      "|         42|       0|     2|Turpin, Mrs. Will...|female|27.0|    1|    0|           11668|   21.0| null|       S|\n",
      "|         52|       0|     3|Nosworthy, Mr. Ri...|  male|21.0|    0|    0|      A/4. 39886|    7.8| null|       S|\n",
      "|         54|       1|     2|Faunthorpe, Mrs. ...|female|29.0|    1|    0|            2926|   26.0| null|       S|\n",
      "|         57|       1|     2|   Rugg, Miss. Emily|female|21.0|    0|    0|      C.A. 31026|   10.5| null|       S|\n",
      "|         58|       0|     3| Novel, Mr. Mansouer|  male|28.5|    0|    0|            2697| 7.2292| null|       C|\n",
      "|         61|       0|     3|Sirayanian, Mr. O...|  male|22.0|    0|    0|            2669| 7.2292| null|       C|\n",
      "|         67|       1|     2|Nye, Mrs. (Elizab...|female|29.0|    0|    0|      C.A. 29395|   10.5|  F33|       S|\n",
      "|         70|       0|     3|   Kink, Mr. Vincenz|  male|26.0|    2|    0|          315151| 8.6625| null|       S|\n",
      "|         73|       0|     2|Hood, Mr. Ambrose Jr|  male|21.0|    0|    0|    S.O.C. 14879|   73.5| null|       S|\n",
      "|         74|       0|     3|Chronopoulos, Mr....|  male|26.0|    1|    0|            2680|14.4542| null|       C|\n",
      "|         76|       0|     3|Moen, Mr. Sigurd ...|  male|25.0|    0|    0|          348123|   7.65|F G73|       S|\n",
      "|         80|       1|     3|Dowdell, Miss. El...|female|30.0|    0|    0|          364516| 12.475| null|       S|\n",
      "|         81|       0|     3|Waelens, Mr. Achille|  male|22.0|    0|    0|          345767|    9.0| null|       S|\n",
      "+-----------+--------+------+--------------------+------+----+-----+-----+----------------+-------+-----+--------+\n",
      "only showing top 20 rows\n",
      "\n"
     ]
    }
   ],
   "source": [
    "df[df.Age.between(20,30)].show()"
   ]
  },
  {
   "cell_type": "markdown",
   "metadata": {},
   "source": [
    "## Adding, Updating and deleting"
   ]
  },
  {
   "cell_type": "markdown",
   "metadata": {},
   "source": [
    "Adding"
   ]
  },
  {
   "cell_type": "code",
   "execution_count": 114,
   "metadata": {},
   "outputs": [
    {
     "name": "stdout",
     "output_type": "stream",
     "text": [
      "+-----------+--------+------+--------------------+------+----+-----+-----+----------------+-------+-----+--------+----------------+\n",
      "|PassengerId|Survived|Pclass|                Name|   Sex| Age|SibSp|Parch|          Ticket|   Fare|Cabin|Embarked|     Ticket_copy|\n",
      "+-----------+--------+------+--------------------+------+----+-----+-----+----------------+-------+-----+--------+----------------+\n",
      "|          1|       0|     3|Braund, Mr. Owen ...|  male|22.0|    1|    0|       A/5 21171|   7.25| null|       S|       A/5 21171|\n",
      "|          2|       1|     1|Cumings, Mrs. Joh...|female|38.0|    1|    0|        PC 17599|71.2833|  C85|       C|        PC 17599|\n",
      "|          3|       1|     3|Heikkinen, Miss. ...|female|26.0|    0|    0|STON/O2. 3101282|  7.925| null|       S|STON/O2. 3101282|\n",
      "|          4|       1|     1|Futrelle, Mrs. Ja...|female|35.0|    1|    0|          113803|   53.1| C123|       S|          113803|\n",
      "|          5|       0|     3|Allen, Mr. Willia...|  male|35.0|    0|    0|          373450|   8.05| null|       S|          373450|\n",
      "|          6|       0|     3|    Moran, Mr. James|  male|null|    0|    0|          330877| 8.4583| null|       Q|          330877|\n",
      "|          7|       0|     1|McCarthy, Mr. Tim...|  male|54.0|    0|    0|           17463|51.8625|  E46|       S|           17463|\n",
      "|          8|       0|     3|Palsson, Master. ...|  male| 2.0|    3|    1|          349909| 21.075| null|       S|          349909|\n",
      "|          9|       1|     3|Johnson, Mrs. Osc...|female|27.0|    0|    2|          347742|11.1333| null|       S|          347742|\n",
      "|         10|       1|     2|Nasser, Mrs. Nich...|female|14.0|    1|    0|          237736|30.0708| null|       C|          237736|\n",
      "|         11|       1|     3|Sandstrom, Miss. ...|female| 4.0|    1|    1|         PP 9549|   16.7|   G6|       S|         PP 9549|\n",
      "|         12|       1|     1|Bonnell, Miss. El...|female|58.0|    0|    0|          113783|  26.55| C103|       S|          113783|\n",
      "|         13|       0|     3|Saundercock, Mr. ...|  male|20.0|    0|    0|       A/5. 2151|   8.05| null|       S|       A/5. 2151|\n",
      "|         14|       0|     3|Andersson, Mr. An...|  male|39.0|    1|    5|          347082| 31.275| null|       S|          347082|\n",
      "|         15|       0|     3|Vestrom, Miss. Hu...|female|14.0|    0|    0|          350406| 7.8542| null|       S|          350406|\n",
      "|         16|       1|     2|Hewlett, Mrs. (Ma...|female|55.0|    0|    0|          248706|   16.0| null|       S|          248706|\n",
      "|         17|       0|     3|Rice, Master. Eugene|  male| 2.0|    4|    1|          382652| 29.125| null|       Q|          382652|\n",
      "|         18|       1|     2|Williams, Mr. Cha...|  male|null|    0|    0|          244373|   13.0| null|       S|          244373|\n",
      "|         19|       0|     3|Vander Planke, Mr...|female|31.0|    1|    0|          345763|   18.0| null|       S|          345763|\n",
      "|         20|       1|     3|Masselmani, Mrs. ...|female|null|    0|    0|            2649|  7.225| null|       C|            2649|\n",
      "+-----------+--------+------+--------------------+------+----+-----+-----+----------------+-------+-----+--------+----------------+\n",
      "only showing top 20 rows\n",
      "\n"
     ]
    }
   ],
   "source": [
    "df = df.withColumn('Ticket_copy',df.Ticket)\n",
    "df.show()"
   ]
  },
  {
   "cell_type": "markdown",
   "metadata": {},
   "source": [
    "Updating"
   ]
  },
  {
   "cell_type": "code",
   "execution_count": 115,
   "metadata": {},
   "outputs": [
    {
     "name": "stdout",
     "output_type": "stream",
     "text": [
      "+-----------+--------+------+--------------------+------+----+-----+-----+----------------+-------+-----+--------+----------------+\n",
      "|PassengerId|Survived|Pclass|                Name|   Sex| Age|SibSp|Parch|          Ticket|   Fare|Cabin|Embarked|    Ticket_copy1|\n",
      "+-----------+--------+------+--------------------+------+----+-----+-----+----------------+-------+-----+--------+----------------+\n",
      "|          1|       0|     3|Braund, Mr. Owen ...|  male|22.0|    1|    0|       A/5 21171|   7.25| null|       S|       A/5 21171|\n",
      "|          2|       1|     1|Cumings, Mrs. Joh...|female|38.0|    1|    0|        PC 17599|71.2833|  C85|       C|        PC 17599|\n",
      "|          3|       1|     3|Heikkinen, Miss. ...|female|26.0|    0|    0|STON/O2. 3101282|  7.925| null|       S|STON/O2. 3101282|\n",
      "|          4|       1|     1|Futrelle, Mrs. Ja...|female|35.0|    1|    0|          113803|   53.1| C123|       S|          113803|\n",
      "|          5|       0|     3|Allen, Mr. Willia...|  male|35.0|    0|    0|          373450|   8.05| null|       S|          373450|\n",
      "|          6|       0|     3|    Moran, Mr. James|  male|null|    0|    0|          330877| 8.4583| null|       Q|          330877|\n",
      "|          7|       0|     1|McCarthy, Mr. Tim...|  male|54.0|    0|    0|           17463|51.8625|  E46|       S|           17463|\n",
      "|          8|       0|     3|Palsson, Master. ...|  male| 2.0|    3|    1|          349909| 21.075| null|       S|          349909|\n",
      "|          9|       1|     3|Johnson, Mrs. Osc...|female|27.0|    0|    2|          347742|11.1333| null|       S|          347742|\n",
      "|         10|       1|     2|Nasser, Mrs. Nich...|female|14.0|    1|    0|          237736|30.0708| null|       C|          237736|\n",
      "|         11|       1|     3|Sandstrom, Miss. ...|female| 4.0|    1|    1|         PP 9549|   16.7|   G6|       S|         PP 9549|\n",
      "|         12|       1|     1|Bonnell, Miss. El...|female|58.0|    0|    0|          113783|  26.55| C103|       S|          113783|\n",
      "|         13|       0|     3|Saundercock, Mr. ...|  male|20.0|    0|    0|       A/5. 2151|   8.05| null|       S|       A/5. 2151|\n",
      "|         14|       0|     3|Andersson, Mr. An...|  male|39.0|    1|    5|          347082| 31.275| null|       S|          347082|\n",
      "|         15|       0|     3|Vestrom, Miss. Hu...|female|14.0|    0|    0|          350406| 7.8542| null|       S|          350406|\n",
      "|         16|       1|     2|Hewlett, Mrs. (Ma...|female|55.0|    0|    0|          248706|   16.0| null|       S|          248706|\n",
      "|         17|       0|     3|Rice, Master. Eugene|  male| 2.0|    4|    1|          382652| 29.125| null|       Q|          382652|\n",
      "|         18|       1|     2|Williams, Mr. Cha...|  male|null|    0|    0|          244373|   13.0| null|       S|          244373|\n",
      "|         19|       0|     3|Vander Planke, Mr...|female|31.0|    1|    0|          345763|   18.0| null|       S|          345763|\n",
      "|         20|       1|     3|Masselmani, Mrs. ...|female|null|    0|    0|            2649|  7.225| null|       C|            2649|\n",
      "+-----------+--------+------+--------------------+------+----+-----+-----+----------------+-------+-----+--------+----------------+\n",
      "only showing top 20 rows\n",
      "\n"
     ]
    }
   ],
   "source": [
    "df = df.withColumnRenamed('Ticket_copy', 'Ticket_copy1')\n",
    "df.show()"
   ]
  },
  {
   "cell_type": "code",
   "execution_count": 119,
   "metadata": {},
   "outputs": [
    {
     "name": "stdout",
     "output_type": "stream",
     "text": [
      "+-----------+--------+------+--------------------+------+----+-----+-----+----------------+-------+-----+--------+\n",
      "|PassengerId|Survived|Pclass|                Name|   Sex| Age|SibSp|Parch|          Ticket|   Fare|Cabin|Embarked|\n",
      "+-----------+--------+------+--------------------+------+----+-----+-----+----------------+-------+-----+--------+\n",
      "|          1|       0|     3|Braund, Mr. Owen ...|  male|22.0|    1|    0|       A/5 21171|   7.25| null|       S|\n",
      "|          2|       1|     1|Cumings, Mrs. Joh...|female|38.0|    1|    0|        PC 17599|71.2833|  C85|       C|\n",
      "|          3|       1|     3|Heikkinen, Miss. ...|female|26.0|    0|    0|STON/O2. 3101282|  7.925| null|       S|\n",
      "|          4|       1|     1|Futrelle, Mrs. Ja...|female|35.0|    1|    0|          113803|   53.1| C123|       S|\n",
      "|          5|       0|     3|Allen, Mr. Willia...|  male|35.0|    0|    0|          373450|   8.05| null|       S|\n",
      "|          6|       0|     3|    Moran, Mr. James|  male|null|    0|    0|          330877| 8.4583| null|       Q|\n",
      "|          7|       0|     1|McCarthy, Mr. Tim...|  male|54.0|    0|    0|           17463|51.8625|  E46|       S|\n",
      "|          8|       0|     3|Palsson, Master. ...|  male| 2.0|    3|    1|          349909| 21.075| null|       S|\n",
      "|          9|       1|     3|Johnson, Mrs. Osc...|female|27.0|    0|    2|          347742|11.1333| null|       S|\n",
      "|         10|       1|     2|Nasser, Mrs. Nich...|female|14.0|    1|    0|          237736|30.0708| null|       C|\n",
      "|         11|       1|     3|Sandstrom, Miss. ...|female| 4.0|    1|    1|         PP 9549|   16.7|   G6|       S|\n",
      "|         12|       1|     1|Bonnell, Miss. El...|female|58.0|    0|    0|          113783|  26.55| C103|       S|\n",
      "|         13|       0|     3|Saundercock, Mr. ...|  male|20.0|    0|    0|       A/5. 2151|   8.05| null|       S|\n",
      "|         14|       0|     3|Andersson, Mr. An...|  male|39.0|    1|    5|          347082| 31.275| null|       S|\n",
      "|         15|       0|     3|Vestrom, Miss. Hu...|female|14.0|    0|    0|          350406| 7.8542| null|       S|\n",
      "|         16|       1|     2|Hewlett, Mrs. (Ma...|female|55.0|    0|    0|          248706|   16.0| null|       S|\n",
      "|         17|       0|     3|Rice, Master. Eugene|  male| 2.0|    4|    1|          382652| 29.125| null|       Q|\n",
      "|         18|       1|     2|Williams, Mr. Cha...|  male|null|    0|    0|          244373|   13.0| null|       S|\n",
      "|         19|       0|     3|Vander Planke, Mr...|female|31.0|    1|    0|          345763|   18.0| null|       S|\n",
      "|         20|       1|     3|Masselmani, Mrs. ...|female|null|    0|    0|            2649|  7.225| null|       C|\n",
      "+-----------+--------+------+--------------------+------+----+-----+-----+----------------+-------+-----+--------+\n",
      "only showing top 20 rows\n",
      "\n"
     ]
    }
   ],
   "source": [
    "df = df.drop(\"Ticket_copy1\")\n",
    "df.show()"
   ]
  },
  {
   "cell_type": "markdown",
   "metadata": {},
   "source": [
    "## Filtering"
   ]
  },
  {
   "cell_type": "code",
   "execution_count": 26,
   "metadata": {},
   "outputs": [
    {
     "name": "stdout",
     "output_type": "stream",
     "text": [
      "+-----------+--------+------+--------------------+------+----+-----+-----+----------+-------+-----------+--------+\n",
      "|PassengerId|Survived|Pclass|                Name|   Sex| Age|SibSp|Parch|    Ticket|   Fare|      Cabin|Embarked|\n",
      "+-----------+--------+------+--------------------+------+----+-----+-----+----------+-------+-----------+--------+\n",
      "|          1|       0|     3|Braund, Mr. Owen ...|  male|22.0|    1|    0| A/5 21171|   7.25|       null|       S|\n",
      "|          5|       0|     3|Allen, Mr. Willia...|  male|35.0|    0|    0|    373450|   8.05|       null|       S|\n",
      "|          6|       0|     3|    Moran, Mr. James|  male|null|    0|    0|    330877| 8.4583|       null|       Q|\n",
      "|          7|       0|     1|McCarthy, Mr. Tim...|  male|54.0|    0|    0|     17463|51.8625|        E46|       S|\n",
      "|          8|       0|     3|Palsson, Master. ...|  male| 2.0|    3|    1|    349909| 21.075|       null|       S|\n",
      "|         13|       0|     3|Saundercock, Mr. ...|  male|20.0|    0|    0| A/5. 2151|   8.05|       null|       S|\n",
      "|         14|       0|     3|Andersson, Mr. An...|  male|39.0|    1|    5|    347082| 31.275|       null|       S|\n",
      "|         15|       0|     3|Vestrom, Miss. Hu...|female|14.0|    0|    0|    350406| 7.8542|       null|       S|\n",
      "|         17|       0|     3|Rice, Master. Eugene|  male| 2.0|    4|    1|    382652| 29.125|       null|       Q|\n",
      "|         19|       0|     3|Vander Planke, Mr...|female|31.0|    1|    0|    345763|   18.0|       null|       S|\n",
      "|         21|       0|     2|Fynney, Mr. Joseph J|  male|35.0|    0|    0|    239865|   26.0|       null|       S|\n",
      "|         25|       0|     3|Palsson, Miss. To...|female| 8.0|    3|    1|    349909| 21.075|       null|       S|\n",
      "|         27|       0|     3|Emir, Mr. Farred ...|  male|null|    0|    0|      2631|  7.225|       null|       C|\n",
      "|         28|       0|     1|Fortune, Mr. Char...|  male|19.0|    3|    2|     19950|  263.0|C23 C25 C27|       S|\n",
      "|         30|       0|     3| Todoroff, Mr. Lalio|  male|null|    0|    0|    349216| 7.8958|       null|       S|\n",
      "|         31|       0|     1|Uruchurtu, Don. M...|  male|40.0|    0|    0|  PC 17601|27.7208|       null|       C|\n",
      "|         34|       0|     2|Wheadon, Mr. Edwa...|  male|66.0|    0|    0|C.A. 24579|   10.5|       null|       S|\n",
      "|         35|       0|     1|Meyer, Mr. Edgar ...|  male|28.0|    1|    0|  PC 17604|82.1708|       null|       C|\n",
      "|         36|       0|     1|Holverson, Mr. Al...|  male|42.0|    1|    0|    113789|   52.0|       null|       S|\n",
      "|         38|       0|     3|Cann, Mr. Ernest ...|  male|21.0|    0|    0|A./5. 2152|   8.05|       null|       S|\n",
      "+-----------+--------+------+--------------------+------+----+-----+-----+----------+-------+-----------+--------+\n",
      "only showing top 20 rows\n",
      "\n"
     ]
    }
   ],
   "source": [
    "df.filter(df[\"Survived\"] == 0).show()"
   ]
  },
  {
   "cell_type": "code",
   "execution_count": 27,
   "metadata": {},
   "outputs": [
    {
     "name": "stdout",
     "output_type": "stream",
     "text": [
      "+--------------------+\n",
      "|                Name|\n",
      "+--------------------+\n",
      "|Braund, Mr. Owen ...|\n",
      "|Allen, Mr. Willia...|\n",
      "|    Moran, Mr. James|\n",
      "|McCarthy, Mr. Tim...|\n",
      "|Palsson, Master. ...|\n",
      "|Saundercock, Mr. ...|\n",
      "|Andersson, Mr. An...|\n",
      "|Vestrom, Miss. Hu...|\n",
      "|Rice, Master. Eugene|\n",
      "|Vander Planke, Mr...|\n",
      "|Fynney, Mr. Joseph J|\n",
      "|Palsson, Miss. To...|\n",
      "|Emir, Mr. Farred ...|\n",
      "|Fortune, Mr. Char...|\n",
      "| Todoroff, Mr. Lalio|\n",
      "|Uruchurtu, Don. M...|\n",
      "|Wheadon, Mr. Edwa...|\n",
      "|Meyer, Mr. Edgar ...|\n",
      "|Holverson, Mr. Al...|\n",
      "|Cann, Mr. Ernest ...|\n",
      "+--------------------+\n",
      "only showing top 20 rows\n",
      "\n"
     ]
    }
   ],
   "source": [
    "df.filter(df[\"Survived\"] == 0).select(\"Name\").show()"
   ]
  },
  {
   "cell_type": "code",
   "execution_count": 36,
   "metadata": {},
   "outputs": [
    {
     "name": "stdout",
     "output_type": "stream",
     "text": [
      "+-----------+--------+------+--------------------+------+----+-----+-----+------------+--------+-----------+--------+\n",
      "|PassengerId|Survived|Pclass|                Name|   Sex| Age|SibSp|Parch|      Ticket|    Fare|      Cabin|Embarked|\n",
      "+-----------+--------+------+--------------------+------+----+-----+-----+------------+--------+-----------+--------+\n",
      "|          7|       0|     1|McCarthy, Mr. Tim...|  male|54.0|    0|    0|       17463| 51.8625|        E46|       S|\n",
      "|         28|       0|     1|Fortune, Mr. Char...|  male|19.0|    3|    2|       19950|   263.0|C23 C25 C27|       S|\n",
      "|         35|       0|     1|Meyer, Mr. Edgar ...|  male|28.0|    1|    0|    PC 17604| 82.1708|       null|       C|\n",
      "|         36|       0|     1|Holverson, Mr. Al...|  male|42.0|    1|    0|      113789|    52.0|       null|       S|\n",
      "|         55|       0|     1|Ostby, Mr. Engelh...|  male|65.0|    0|    1|      113509| 61.9792|        B30|       C|\n",
      "|         63|       0|     1|Harris, Mr. Henry...|  male|45.0|    1|    0|       36973|  83.475|        C83|       S|\n",
      "|         73|       0|     2|Hood, Mr. Ambrose Jr|  male|21.0|    0|    0|S.O.C. 14879|    73.5|       null|       S|\n",
      "|         93|       0|     1|Chaffee, Mr. Herb...|  male|46.0|    1|    0| W.E.P. 5734|  61.175|        E31|       S|\n",
      "|        103|       0|     1|White, Mr. Richar...|  male|21.0|    0|    1|       35281| 77.2875|        D26|       S|\n",
      "|        111|       0|     1|Porter, Mr. Walte...|  male|47.0|    0|    0|      110465|    52.0|       C110|       S|\n",
      "|        119|       0|     1|Baxter, Mr. Quigg...|  male|24.0|    0|    1|    PC 17558|247.5208|    B58 B60|       C|\n",
      "|        121|       0|     2|Hickman, Mr. Stan...|  male|21.0|    2|    0|S.O.C. 14879|    73.5|       null|       S|\n",
      "|        125|       0|     1|White, Mr. Perciv...|  male|54.0|    0|    1|       35281| 77.2875|        D26|       S|\n",
      "|        138|       0|     1|Futrelle, Mr. Jac...|  male|37.0|    1|    0|      113803|    53.1|       C123|       S|\n",
      "|        140|       0|     1|  Giglio, Mr. Victor|  male|24.0|    0|    0|    PC 17593|    79.2|        B86|       C|\n",
      "|        156|       0|     1|Williams, Mr. Cha...|  male|51.0|    0|    1|    PC 17597| 61.3792|       null|       C|\n",
      "|        160|       0|     3|Sage, Master. Tho...|  male|null|    8|    2|    CA. 2343|   69.55|       null|       S|\n",
      "|        170|       0|     3|       Ling, Mr. Lee|  male|28.0|    0|    0|        1601| 56.4958|       null|       S|\n",
      "|        181|       0|     3|Sage, Miss. Const...|female|null|    8|    2|    CA. 2343|   69.55|       null|       S|\n",
      "|        202|       0|     3| Sage, Mr. Frederick|  male|null|    8|    2|    CA. 2343|   69.55|       null|       S|\n",
      "+-----------+--------+------+--------------------+------+----+-----+-----+------------+--------+-----------+--------+\n",
      "only showing top 20 rows\n",
      "\n"
     ]
    }
   ],
   "source": [
    "df.filter((df[\"Survived\"] == 0) & (df[\"Fare\"] > 50)).show()"
   ]
  },
  {
   "cell_type": "markdown",
   "metadata": {},
   "source": [
    "## GroupBy, OrderBy and Aggregate"
   ]
  },
  {
   "cell_type": "code",
   "execution_count": 132,
   "metadata": {},
   "outputs": [
    {
     "name": "stdout",
     "output_type": "stream",
     "text": [
      "+----+-----+\n",
      "| Age|count|\n",
      "+----+-----+\n",
      "| 8.0|    4|\n",
      "|70.0|    2|\n",
      "| 7.0|    3|\n",
      "|20.5|    1|\n",
      "|49.0|    6|\n",
      "|29.0|   20|\n",
      "|40.5|    2|\n",
      "|64.0|    2|\n",
      "|47.0|    9|\n",
      "|42.0|   13|\n",
      "|24.5|    1|\n",
      "|44.0|    9|\n",
      "|35.0|   18|\n",
      "|null|  177|\n",
      "|62.0|    4|\n",
      "|18.0|   26|\n",
      "|80.0|    1|\n",
      "|34.5|    1|\n",
      "|39.0|   14|\n",
      "| 1.0|    7|\n",
      "+----+-----+\n",
      "only showing top 20 rows\n",
      "\n"
     ]
    }
   ],
   "source": [
    "df.groupBy(\"Age\").count().show()"
   ]
  },
  {
   "cell_type": "code",
   "execution_count": 138,
   "metadata": {},
   "outputs": [
    {
     "name": "stdout",
     "output_type": "stream",
     "text": [
      "+-----------+--------+------+--------------------+------+----+-----+-----+----------+-------+-----+--------+\n",
      "|PassengerId|Survived|Pclass|                Name|   Sex| Age|SibSp|Parch|    Ticket|   Fare|Cabin|Embarked|\n",
      "+-----------+--------+------+--------------------+------+----+-----+-----+----------+-------+-----+--------+\n",
      "|        147|       1|     3|\"Andersson, Mr. A...|  male|27.0|    0|    0|    350043| 7.7958| null|       S|\n",
      "|        519|       1|     2|\"Angle, Mrs. Will...|female|36.0|    1|    0|    226875|   26.0| null|       S|\n",
      "|        291|       1|     1|\"Barber, Miss. El...|female|26.0|    0|    0|     19877|  78.85| null|       S|\n",
      "|        625|       0|     3|\"Bowen, Mr. David...|  male|21.0|    0|    0|     54636|   16.1| null|       S|\n",
      "|        508|       1|     1|\"Bradley, Mr. Geo...|  male|null|    0|    0|    111427|  26.55| null|       S|\n",
      "|        346|       1|     2|\"Brown, Miss. Ame...|female|24.0|    0|    0|    248733|   13.0|  F33|       S|\n",
      "|        209|       1|     3|\"Carr, Miss. Hele...|female|16.0|    0|    0|    367231|   7.75| null|       Q|\n",
      "|        205|       1|     3|\"Cohen, Mr. Gursh...|  male|18.0|    0|    0|  A/5 3540|   8.05| null|       S|\n",
      "|        238|       1|     2|\"Collyer, Miss. M...|female| 8.0|    0|    2|C.A. 31921|  26.25| null|       S|\n",
      "|        490|       1|     3|\"Coutts, Master. ...|  male| 9.0|    1|    1|C.A. 37671|   15.9| null|       S|\n",
      "|        349|       1|     3|\"Coutts, Master. ...|  male| 3.0|    1|    1|C.A. 37671|   15.9| null|       S|\n",
      "|        557|       1|     1|\"Duff Gordon, Lad...|female|48.0|    1|    0|     11755|   39.6|  A16|       C|\n",
      "|        600|       1|     1|\"Duff Gordon, Sir...|  male|49.0|    1|    0|  PC 17485|56.9292|  A20|       C|\n",
      "|        573|       1|     1|\"Flynn, Mr. John ...|  male|36.0|    0|    0|  PC 17474|26.3875|  E25|       S|\n",
      "|        437|       0|     3|\"Ford, Miss. Dool...|female|21.0|    2|    2|W./C. 6608| 34.375| null|       S|\n",
      "|        148|       0|     3|\"Ford, Miss. Robi...|female| 9.0|    2|    2|W./C. 6608| 34.375| null|       S|\n",
      "|        482|       0|     2|\"Frost, Mr. Antho...|  male|null|    0|    0|    239854|    0.0| null|       S|\n",
      "|        157|       1|     3|\"Gilnagh, Miss. K...|female|16.0|    0|    0|     35851| 7.7333| null|       Q|\n",
      "|        166|       1|     3|\"Goldsmith, Maste...|  male| 9.0|    0|    2|    363291| 20.525| null|       S|\n",
      "|        721|       1|     2|\"Harper, Miss. An...|female| 6.0|    0|    1|    248727|   33.0| null|       S|\n",
      "+-----------+--------+------+--------------------+------+----+-----+-----+----------+-------+-----+--------+\n",
      "only showing top 20 rows\n",
      "\n"
     ]
    }
   ],
   "source": [
    "df.orderBy(\"Name\").show()"
   ]
  },
  {
   "cell_type": "code",
   "execution_count": 133,
   "metadata": {},
   "outputs": [
    {
     "name": "stdout",
     "output_type": "stream",
     "text": [
      "+--------+\n",
      "|max(Age)|\n",
      "+--------+\n",
      "|    80.0|\n",
      "+--------+\n",
      "\n"
     ]
    }
   ],
   "source": [
    "df.agg({'Age':'max'}).show()"
   ]
  },
  {
   "cell_type": "markdown",
   "metadata": {},
   "source": [
    "## Sorting"
   ]
  },
  {
   "cell_type": "code",
   "execution_count": 122,
   "metadata": {},
   "outputs": [
    {
     "name": "stdout",
     "output_type": "stream",
     "text": [
      "+-----------+--------+------+--------------------+------+----+-----+-----+-----------+-------+-----------+--------+\n",
      "|PassengerId|Survived|Pclass|                Name|   Sex| Age|SibSp|Parch|     Ticket|   Fare|      Cabin|Embarked|\n",
      "+-----------+--------+------+--------------------+------+----+-----+-----+-----------+-------+-----------+--------+\n",
      "|        631|       1|     1|Barkworth, Mr. Al...|  male|80.0|    0|    0|      27042|   30.0|        A23|       S|\n",
      "|        852|       0|     3| Svensson, Mr. Johan|  male|74.0|    0|    0|     347060|  7.775|       null|       S|\n",
      "|         97|       0|     1|Goldschmidt, Mr. ...|  male|71.0|    0|    0|   PC 17754|34.6542|         A5|       C|\n",
      "|        494|       0|     1|Artagaveytia, Mr....|  male|71.0|    0|    0|   PC 17609|49.5042|       null|       C|\n",
      "|        117|       0|     3|Connors, Mr. Patrick|  male|70.5|    0|    0|     370369|   7.75|       null|       Q|\n",
      "|        746|       0|     1|Crosby, Capt. Edw...|  male|70.0|    1|    1|  WE/P 5735|   71.0|        B22|       S|\n",
      "|        673|       0|     2|Mitchell, Mr. Hen...|  male|70.0|    0|    0| C.A. 24580|   10.5|       null|       S|\n",
      "|         34|       0|     2|Wheadon, Mr. Edwa...|  male|66.0|    0|    0| C.A. 24579|   10.5|       null|       S|\n",
      "|        457|       0|     1|Millet, Mr. Franc...|  male|65.0|    0|    0|      13509|  26.55|        E38|       S|\n",
      "|        281|       0|     3|    Duane, Mr. Frank|  male|65.0|    0|    0|     336439|   7.75|       null|       Q|\n",
      "|         55|       0|     1|Ostby, Mr. Engelh...|  male|65.0|    0|    1|     113509|61.9792|        B30|       C|\n",
      "|        546|       0|     1|Nicholson, Mr. Ar...|  male|64.0|    0|    0|        693|   26.0|       null|       S|\n",
      "|        439|       0|     1|   Fortune, Mr. Mark|  male|64.0|    1|    4|      19950|  263.0|C23 C25 C27|       S|\n",
      "|        276|       1|     1|Andrews, Miss. Ko...|female|63.0|    1|    0|      13502|77.9583|         D7|       S|\n",
      "|        484|       1|     3|Turkula, Mrs. (He...|female|63.0|    0|    0|       4134| 9.5875|       null|       S|\n",
      "|        830|       1|     1|Stone, Mrs. Georg...|female|62.0|    0|    0|     113572|   80.0|        B28|    null|\n",
      "|        556|       0|     1|  Wright, Mr. George|  male|62.0|    0|    0|     113807|  26.55|       null|       S|\n",
      "|        571|       1|     2|  Harris, Mr. George|  male|62.0|    0|    0|S.W./PP 752|   10.5|       null|       S|\n",
      "|        253|       0|     1|Stead, Mr. Willia...|  male|62.0|    0|    0|     113514|  26.55|        C87|       S|\n",
      "|        327|       0|     3|Nysveen, Mr. Joha...|  male|61.0|    0|    0|     345364| 6.2375|       null|       S|\n",
      "+-----------+--------+------+--------------------+------+----+-----+-----+-----------+-------+-----------+--------+\n",
      "only showing top 20 rows\n",
      "\n"
     ]
    }
   ],
   "source": [
    "df.sort(df.Age.desc()).show()"
   ]
  },
  {
   "cell_type": "code",
   "execution_count": 124,
   "metadata": {},
   "outputs": [
    {
     "name": "stdout",
     "output_type": "stream",
     "text": [
      "+-----------+--------+------+--------------------+------+----+-----+-----+-----------+-------+-----------+--------+\n",
      "|PassengerId|Survived|Pclass|                Name|   Sex| Age|SibSp|Parch|     Ticket|   Fare|      Cabin|Embarked|\n",
      "+-----------+--------+------+--------------------+------+----+-----+-----+-----------+-------+-----------+--------+\n",
      "|        631|       1|     1|Barkworth, Mr. Al...|  male|80.0|    0|    0|      27042|   30.0|        A23|       S|\n",
      "|        852|       0|     3| Svensson, Mr. Johan|  male|74.0|    0|    0|     347060|  7.775|       null|       S|\n",
      "|         97|       0|     1|Goldschmidt, Mr. ...|  male|71.0|    0|    0|   PC 17754|34.6542|         A5|       C|\n",
      "|        494|       0|     1|Artagaveytia, Mr....|  male|71.0|    0|    0|   PC 17609|49.5042|       null|       C|\n",
      "|        117|       0|     3|Connors, Mr. Patrick|  male|70.5|    0|    0|     370369|   7.75|       null|       Q|\n",
      "|        746|       0|     1|Crosby, Capt. Edw...|  male|70.0|    1|    1|  WE/P 5735|   71.0|        B22|       S|\n",
      "|        673|       0|     2|Mitchell, Mr. Hen...|  male|70.0|    0|    0| C.A. 24580|   10.5|       null|       S|\n",
      "|         34|       0|     2|Wheadon, Mr. Edwa...|  male|66.0|    0|    0| C.A. 24579|   10.5|       null|       S|\n",
      "|        457|       0|     1|Millet, Mr. Franc...|  male|65.0|    0|    0|      13509|  26.55|        E38|       S|\n",
      "|        281|       0|     3|    Duane, Mr. Frank|  male|65.0|    0|    0|     336439|   7.75|       null|       Q|\n",
      "|         55|       0|     1|Ostby, Mr. Engelh...|  male|65.0|    0|    1|     113509|61.9792|        B30|       C|\n",
      "|        546|       0|     1|Nicholson, Mr. Ar...|  male|64.0|    0|    0|        693|   26.0|       null|       S|\n",
      "|        439|       0|     1|   Fortune, Mr. Mark|  male|64.0|    1|    4|      19950|  263.0|C23 C25 C27|       S|\n",
      "|        276|       1|     1|Andrews, Miss. Ko...|female|63.0|    1|    0|      13502|77.9583|         D7|       S|\n",
      "|        484|       1|     3|Turkula, Mrs. (He...|female|63.0|    0|    0|       4134| 9.5875|       null|       S|\n",
      "|        830|       1|     1|Stone, Mrs. Georg...|female|62.0|    0|    0|     113572|   80.0|        B28|    null|\n",
      "|        556|       0|     1|  Wright, Mr. George|  male|62.0|    0|    0|     113807|  26.55|       null|       S|\n",
      "|        571|       1|     2|  Harris, Mr. George|  male|62.0|    0|    0|S.W./PP 752|   10.5|       null|       S|\n",
      "|        253|       0|     1|Stead, Mr. Willia...|  male|62.0|    0|    0|     113514|  26.55|        C87|       S|\n",
      "|        327|       0|     3|Nysveen, Mr. Joha...|  male|61.0|    0|    0|     345364| 6.2375|       null|       S|\n",
      "+-----------+--------+------+--------------------+------+----+-----+-----+-----------+-------+-----------+--------+\n",
      "only showing top 20 rows\n",
      "\n"
     ]
    }
   ],
   "source": [
    "df.sort(\"Age\", ascending=False).show()"
   ]
  },
  {
   "cell_type": "code",
   "execution_count": 128,
   "metadata": {},
   "outputs": [
    {
     "name": "stdout",
     "output_type": "stream",
     "text": [
      "+-----------+--------+------+--------------------+------+----+-----+-----+-----------+-------+-----------+--------+\n",
      "|PassengerId|Survived|Pclass|                Name|   Sex| Age|SibSp|Parch|     Ticket|   Fare|      Cabin|Embarked|\n",
      "+-----------+--------+------+--------------------+------+----+-----+-----+-----------+-------+-----------+--------+\n",
      "|        631|       1|     1|Barkworth, Mr. Al...|  male|80.0|    0|    0|      27042|   30.0|        A23|       S|\n",
      "|        852|       0|     3| Svensson, Mr. Johan|  male|74.0|    0|    0|     347060|  7.775|       null|       S|\n",
      "|         97|       0|     1|Goldschmidt, Mr. ...|  male|71.0|    0|    0|   PC 17754|34.6542|         A5|       C|\n",
      "|        494|       0|     1|Artagaveytia, Mr....|  male|71.0|    0|    0|   PC 17609|49.5042|       null|       C|\n",
      "|        117|       0|     3|Connors, Mr. Patrick|  male|70.5|    0|    0|     370369|   7.75|       null|       Q|\n",
      "|        746|       0|     1|Crosby, Capt. Edw...|  male|70.0|    1|    1|  WE/P 5735|   71.0|        B22|       S|\n",
      "|        673|       0|     2|Mitchell, Mr. Hen...|  male|70.0|    0|    0| C.A. 24580|   10.5|       null|       S|\n",
      "|         34|       0|     2|Wheadon, Mr. Edwa...|  male|66.0|    0|    0| C.A. 24579|   10.5|       null|       S|\n",
      "|         55|       0|     1|Ostby, Mr. Engelh...|  male|65.0|    0|    1|     113509|61.9792|        B30|       C|\n",
      "|        281|       0|     3|    Duane, Mr. Frank|  male|65.0|    0|    0|     336439|   7.75|       null|       Q|\n",
      "|        457|       0|     1|Millet, Mr. Franc...|  male|65.0|    0|    0|      13509|  26.55|        E38|       S|\n",
      "|        439|       0|     1|   Fortune, Mr. Mark|  male|64.0|    1|    4|      19950|  263.0|C23 C25 C27|       S|\n",
      "|        546|       0|     1|Nicholson, Mr. Ar...|  male|64.0|    0|    0|        693|   26.0|       null|       S|\n",
      "|        484|       1|     3|Turkula, Mrs. (He...|female|63.0|    0|    0|       4134| 9.5875|       null|       S|\n",
      "|        276|       1|     1|Andrews, Miss. Ko...|female|63.0|    1|    0|      13502|77.9583|         D7|       S|\n",
      "|        830|       1|     1|Stone, Mrs. Georg...|female|62.0|    0|    0|     113572|   80.0|        B28|    null|\n",
      "|        571|       1|     2|  Harris, Mr. George|  male|62.0|    0|    0|S.W./PP 752|   10.5|       null|       S|\n",
      "|        253|       0|     1|Stead, Mr. Willia...|  male|62.0|    0|    0|     113514|  26.55|        C87|       S|\n",
      "|        556|       0|     1|  Wright, Mr. George|  male|62.0|    0|    0|     113807|  26.55|       null|       S|\n",
      "|        171|       0|     1|Van der hoef, Mr....|  male|61.0|    0|    0|     111240|   33.5|        B19|       S|\n",
      "+-----------+--------+------+--------------------+------+----+-----+-----+-----------+-------+-----------+--------+\n",
      "only showing top 20 rows\n",
      "\n"
     ]
    }
   ],
   "source": [
    "df.orderBy([\"Age\",\"Sex\"],ascending=[0,1]).show()"
   ]
  },
  {
   "cell_type": "markdown",
   "metadata": {},
   "source": [
    "## Missing & Replacing Values"
   ]
  },
  {
   "cell_type": "code",
   "execution_count": 139,
   "metadata": {},
   "outputs": [
    {
     "name": "stdout",
     "output_type": "stream",
     "text": [
      "+-----------+--------+------+--------------------+------+----+-----+-----+-----------+--------+-----------+--------+\n",
      "|PassengerId|Survived|Pclass|                Name|   Sex| Age|SibSp|Parch|     Ticket|    Fare|      Cabin|Embarked|\n",
      "+-----------+--------+------+--------------------+------+----+-----+-----+-----------+--------+-----------+--------+\n",
      "|          2|       1|     1|Cumings, Mrs. Joh...|female|38.0|    1|    0|   PC 17599| 71.2833|        C85|       C|\n",
      "|          4|       1|     1|Futrelle, Mrs. Ja...|female|35.0|    1|    0|     113803|    53.1|       C123|       S|\n",
      "|          7|       0|     1|McCarthy, Mr. Tim...|  male|54.0|    0|    0|      17463| 51.8625|        E46|       S|\n",
      "|         11|       1|     3|Sandstrom, Miss. ...|female| 4.0|    1|    1|    PP 9549|    16.7|         G6|       S|\n",
      "|         12|       1|     1|Bonnell, Miss. El...|female|58.0|    0|    0|     113783|   26.55|       C103|       S|\n",
      "|         22|       1|     2|Beesley, Mr. Lawr...|  male|34.0|    0|    0|     248698|    13.0|        D56|       S|\n",
      "|         24|       1|     1|Sloper, Mr. Willi...|  male|28.0|    0|    0|     113788|    35.5|         A6|       S|\n",
      "|         28|       0|     1|Fortune, Mr. Char...|  male|19.0|    3|    2|      19950|   263.0|C23 C25 C27|       S|\n",
      "|         53|       1|     1|Harper, Mrs. Henr...|female|49.0|    1|    0|   PC 17572| 76.7292|        D33|       C|\n",
      "|         55|       0|     1|Ostby, Mr. Engelh...|  male|65.0|    0|    1|     113509| 61.9792|        B30|       C|\n",
      "|         63|       0|     1|Harris, Mr. Henry...|  male|45.0|    1|    0|      36973|  83.475|        C83|       S|\n",
      "|         67|       1|     2|Nye, Mrs. (Elizab...|female|29.0|    0|    0| C.A. 29395|    10.5|        F33|       S|\n",
      "|         76|       0|     3|Moen, Mr. Sigurd ...|  male|25.0|    0|    0|     348123|    7.65|      F G73|       S|\n",
      "|         89|       1|     1|Fortune, Miss. Ma...|female|23.0|    3|    2|      19950|   263.0|C23 C25 C27|       S|\n",
      "|         93|       0|     1|Chaffee, Mr. Herb...|  male|46.0|    1|    0|W.E.P. 5734|  61.175|        E31|       S|\n",
      "|         97|       0|     1|Goldschmidt, Mr. ...|  male|71.0|    0|    0|   PC 17754| 34.6542|         A5|       C|\n",
      "|         98|       1|     1|Greenfield, Mr. W...|  male|23.0|    0|    1|   PC 17759| 63.3583|    D10 D12|       C|\n",
      "|        103|       0|     1|White, Mr. Richar...|  male|21.0|    0|    1|      35281| 77.2875|        D26|       S|\n",
      "|        111|       0|     1|Porter, Mr. Walte...|  male|47.0|    0|    0|     110465|    52.0|       C110|       S|\n",
      "|        119|       0|     1|Baxter, Mr. Quigg...|  male|24.0|    0|    1|   PC 17558|247.5208|    B58 B60|       C|\n",
      "+-----------+--------+------+--------------------+------+----+-----+-----+-----------+--------+-----------+--------+\n",
      "only showing top 20 rows\n",
      "\n"
     ]
    }
   ],
   "source": [
    "df.na.drop().show()"
   ]
  },
  {
   "cell_type": "code",
   "execution_count": 140,
   "metadata": {},
   "outputs": [
    {
     "name": "stdout",
     "output_type": "stream",
     "text": [
      "+-----------+--------+------+--------------------+------+----+-----+-----+----------------+-------+-----+--------+\n",
      "|PassengerId|Survived|Pclass|                Name|   Sex| Age|SibSp|Parch|          Ticket|   Fare|Cabin|Embarked|\n",
      "+-----------+--------+------+--------------------+------+----+-----+-----+----------------+-------+-----+--------+\n",
      "|          1|       0|     3|Braund, Mr. Owen ...|  male|22.0|    1|    0|       A/5 21171|   7.25| null|       S|\n",
      "|          2|       1|     1|Cumings, Mrs. Joh...|female|38.0|    1|    0|        PC 17599|71.2833|  C85|       C|\n",
      "|          3|       1|     3|Heikkinen, Miss. ...|female|26.0|    0|    0|STON/O2. 3101282|  7.925| null|       S|\n",
      "|          4|       1|     1|Futrelle, Mrs. Ja...|female|35.0|    1|    0|          113803|   53.1| C123|       S|\n",
      "|          5|       0|     3|Allen, Mr. Willia...|  male|35.0|    0|    0|          373450|   8.05| null|       S|\n",
      "|          6|       0|     3|    Moran, Mr. James|  male|null|    0|    0|          330877| 8.4583| null|       Q|\n",
      "|          7|       0|     1|McCarthy, Mr. Tim...|  male|54.0|    0|    0|           17463|51.8625|  E46|       S|\n",
      "|          8|       0|     3|Palsson, Master. ...|  male| 2.0|    3|    1|          349909| 21.075| null|       S|\n",
      "|          9|       1|     3|Johnson, Mrs. Osc...|female|27.0|    0|    2|          347742|11.1333| null|       S|\n",
      "|         10|       1|     2|Nasser, Mrs. Nich...|female|14.0|    1|    0|          237736|30.0708| null|       C|\n",
      "|         11|       1|     3|Sandstrom, Miss. ...|female| 4.0|    1|    1|         PP 9549|   16.7|   G6|       S|\n",
      "|         12|       1|     1|Bonnell, Miss. El...|female|58.0|    0|    0|          113783|  26.55| C103|       S|\n",
      "|         13|       0|     3|Saundercock, Mr. ...|  male|20.0|    0|    0|       A/5. 2151|   8.05| null|       S|\n",
      "|         14|       0|     3|Andersson, Mr. An...|  male|39.0|    1|    5|          347082| 31.275| null|       S|\n",
      "|         15|       0|     3|Vestrom, Miss. Hu...|female|14.0|    0|    0|          350406| 7.8542| null|       S|\n",
      "|         16|       1|     2|Hewlett, Mrs. (Ma...|female|55.0|    0|    0|          248706|   16.0| null|       S|\n",
      "|         17|       0|     3|Rice, Master. Eugene|  male| 2.0|    4|    1|          382652| 29.125| null|       Q|\n",
      "|         18|       1|     2|Williams, Mr. Cha...|  male|null|    0|    0|          244373|   13.0| null|       S|\n",
      "|         19|       0|     3|Vander Planke, Mr...|female|31.0|    1|    0|          345763|   18.0| null|       S|\n",
      "|         20|       1|     3|Masselmani, Mrs. ...|female|null|    0|    0|            2649|  7.225| null|       C|\n",
      "+-----------+--------+------+--------------------+------+----+-----+-----+----------------+-------+-----+--------+\n",
      "only showing top 20 rows\n",
      "\n"
     ]
    }
   ],
   "source": [
    "df.na.drop(thresh=2).show()"
   ]
  },
  {
   "cell_type": "code",
   "execution_count": 143,
   "metadata": {},
   "outputs": [
    {
     "name": "stdout",
     "output_type": "stream",
     "text": [
      "+-----------+--------+------+--------------------+------+----+-----+-----+----------------+-------+-----+--------+\n",
      "|PassengerId|Survived|Pclass|                Name|   Sex| Age|SibSp|Parch|          Ticket|   Fare|Cabin|Embarked|\n",
      "+-----------+--------+------+--------------------+------+----+-----+-----+----------------+-------+-----+--------+\n",
      "|          1|       0|     3|Braund, Mr. Owen ...|  male|22.0|    1|    0|       A/5 21171|   7.25| null|       S|\n",
      "|          2|       1|     1|Cumings, Mrs. Joh...|female|38.0|    1|    0|        PC 17599|71.2833|  C85|       C|\n",
      "|          3|       1|     3|Heikkinen, Miss. ...|female|26.0|    0|    0|STON/O2. 3101282|  7.925| null|       S|\n",
      "|          4|       1|     1|Futrelle, Mrs. Ja...|female|35.0|    1|    0|          113803|   53.1| C123|       S|\n",
      "|          5|       0|     3|Allen, Mr. Willia...|  male|35.0|    0|    0|          373450|   8.05| null|       S|\n",
      "|          7|       0|     1|McCarthy, Mr. Tim...|  male|54.0|    0|    0|           17463|51.8625|  E46|       S|\n",
      "|          8|       0|     3|Palsson, Master. ...|  male| 2.0|    3|    1|          349909| 21.075| null|       S|\n",
      "|          9|       1|     3|Johnson, Mrs. Osc...|female|27.0|    0|    2|          347742|11.1333| null|       S|\n",
      "|         10|       1|     2|Nasser, Mrs. Nich...|female|14.0|    1|    0|          237736|30.0708| null|       C|\n",
      "|         11|       1|     3|Sandstrom, Miss. ...|female| 4.0|    1|    1|         PP 9549|   16.7|   G6|       S|\n",
      "|         12|       1|     1|Bonnell, Miss. El...|female|58.0|    0|    0|          113783|  26.55| C103|       S|\n",
      "|         13|       0|     3|Saundercock, Mr. ...|  male|20.0|    0|    0|       A/5. 2151|   8.05| null|       S|\n",
      "|         14|       0|     3|Andersson, Mr. An...|  male|39.0|    1|    5|          347082| 31.275| null|       S|\n",
      "|         15|       0|     3|Vestrom, Miss. Hu...|female|14.0|    0|    0|          350406| 7.8542| null|       S|\n",
      "|         16|       1|     2|Hewlett, Mrs. (Ma...|female|55.0|    0|    0|          248706|   16.0| null|       S|\n",
      "|         17|       0|     3|Rice, Master. Eugene|  male| 2.0|    4|    1|          382652| 29.125| null|       Q|\n",
      "|         19|       0|     3|Vander Planke, Mr...|female|31.0|    1|    0|          345763|   18.0| null|       S|\n",
      "|         21|       0|     2|Fynney, Mr. Joseph J|  male|35.0|    0|    0|          239865|   26.0| null|       S|\n",
      "|         22|       1|     2|Beesley, Mr. Lawr...|  male|34.0|    0|    0|          248698|   13.0|  D56|       S|\n",
      "|         23|       1|     3|\"McGowan, Miss. A...|female|15.0|    0|    0|          330923| 8.0292| null|       Q|\n",
      "+-----------+--------+------+--------------------+------+----+-----+-----+----------------+-------+-----+--------+\n",
      "only showing top 20 rows\n",
      "\n"
     ]
    }
   ],
   "source": [
    "df.na.drop(subset=[\"Age\"]).show()"
   ]
  },
  {
   "cell_type": "code",
   "execution_count": 144,
   "metadata": {},
   "outputs": [
    {
     "name": "stdout",
     "output_type": "stream",
     "text": [
      "+-----------+--------+------+--------------------+------+----+-----+-----+----------------+-------+-----+--------+\n",
      "|PassengerId|Survived|Pclass|                Name|   Sex| Age|SibSp|Parch|          Ticket|   Fare|Cabin|Embarked|\n",
      "+-----------+--------+------+--------------------+------+----+-----+-----+----------------+-------+-----+--------+\n",
      "|          1|       0|     3|Braund, Mr. Owen ...|  male|22.0|    1|    0|       A/5 21171|   7.25| null|       S|\n",
      "|          2|       1|     1|Cumings, Mrs. Joh...|female|38.0|    1|    0|        PC 17599|71.2833|  C85|       C|\n",
      "|          3|       1|     3|Heikkinen, Miss. ...|female|26.0|    0|    0|STON/O2. 3101282|  7.925| null|       S|\n",
      "|          4|       1|     1|Futrelle, Mrs. Ja...|female|35.0|    1|    0|          113803|   53.1| C123|       S|\n",
      "|          5|       0|     3|Allen, Mr. Willia...|  male|35.0|    0|    0|          373450|   8.05| null|       S|\n",
      "|          6|       0|     3|    Moran, Mr. James|  male|null|    0|    0|          330877| 8.4583| null|       Q|\n",
      "|          7|       0|     1|McCarthy, Mr. Tim...|  male|54.0|    0|    0|           17463|51.8625|  E46|       S|\n",
      "|          8|       0|     3|Palsson, Master. ...|  male| 2.0|    3|    1|          349909| 21.075| null|       S|\n",
      "|          9|       1|     3|Johnson, Mrs. Osc...|female|27.0|    0|    2|          347742|11.1333| null|       S|\n",
      "|         10|       1|     2|Nasser, Mrs. Nich...|female|14.0|    1|    0|          237736|30.0708| null|       C|\n",
      "|         11|       1|     3|Sandstrom, Miss. ...|female| 4.0|    1|    1|         PP 9549|   16.7|   G6|       S|\n",
      "|         12|       1|     1|Bonnell, Miss. El...|female|58.0|    0|    0|          113783|  26.55| C103|       S|\n",
      "|         13|       0|     3|Saundercock, Mr. ...|  male|20.0|    0|    0|       A/5. 2151|   8.05| null|       S|\n",
      "|         14|       0|     3|Andersson, Mr. An...|  male|39.0|    1|    5|          347082| 31.275| null|       S|\n",
      "|         15|       0|     3|Vestrom, Miss. Hu...|female|14.0|    0|    0|          350406| 7.8542| null|       S|\n",
      "|         16|       1|     2|Hewlett, Mrs. (Ma...|female|55.0|    0|    0|          248706|   16.0| null|       S|\n",
      "|         17|       0|     3|Rice, Master. Eugene|  male| 2.0|    4|    1|          382652| 29.125| null|       Q|\n",
      "|         18|       1|     2|Williams, Mr. Cha...|  male|null|    0|    0|          244373|   13.0| null|       S|\n",
      "|         19|       0|     3|Vander Planke, Mr...|female|31.0|    1|    0|          345763|   18.0| null|       S|\n",
      "|         20|       1|     3|Masselmani, Mrs. ...|female|null|    0|    0|            2649|  7.225| null|       C|\n",
      "+-----------+--------+------+--------------------+------+----+-----+-----+----------------+-------+-----+--------+\n",
      "only showing top 20 rows\n",
      "\n"
     ]
    }
   ],
   "source": [
    "df.na.drop(how='all').show()"
   ]
  },
  {
   "cell_type": "code",
   "execution_count": 145,
   "metadata": {},
   "outputs": [
    {
     "name": "stdout",
     "output_type": "stream",
     "text": [
      "+-----------+--------+------+--------------------+------+----+-----+-----+----------------+-------+-------+--------+\n",
      "|PassengerId|Survived|Pclass|                Name|   Sex| Age|SibSp|Parch|          Ticket|   Fare|  Cabin|Embarked|\n",
      "+-----------+--------+------+--------------------+------+----+-----+-----+----------------+-------+-------+--------+\n",
      "|          1|       0|     3|Braund, Mr. Owen ...|  male|22.0|    1|    0|       A/5 21171|   7.25|Default|       S|\n",
      "|          2|       1|     1|Cumings, Mrs. Joh...|female|38.0|    1|    0|        PC 17599|71.2833|    C85|       C|\n",
      "|          3|       1|     3|Heikkinen, Miss. ...|female|26.0|    0|    0|STON/O2. 3101282|  7.925|Default|       S|\n",
      "|          4|       1|     1|Futrelle, Mrs. Ja...|female|35.0|    1|    0|          113803|   53.1|   C123|       S|\n",
      "|          5|       0|     3|Allen, Mr. Willia...|  male|35.0|    0|    0|          373450|   8.05|Default|       S|\n",
      "|          6|       0|     3|    Moran, Mr. James|  male|null|    0|    0|          330877| 8.4583|Default|       Q|\n",
      "|          7|       0|     1|McCarthy, Mr. Tim...|  male|54.0|    0|    0|           17463|51.8625|    E46|       S|\n",
      "|          8|       0|     3|Palsson, Master. ...|  male| 2.0|    3|    1|          349909| 21.075|Default|       S|\n",
      "|          9|       1|     3|Johnson, Mrs. Osc...|female|27.0|    0|    2|          347742|11.1333|Default|       S|\n",
      "|         10|       1|     2|Nasser, Mrs. Nich...|female|14.0|    1|    0|          237736|30.0708|Default|       C|\n",
      "|         11|       1|     3|Sandstrom, Miss. ...|female| 4.0|    1|    1|         PP 9549|   16.7|     G6|       S|\n",
      "|         12|       1|     1|Bonnell, Miss. El...|female|58.0|    0|    0|          113783|  26.55|   C103|       S|\n",
      "|         13|       0|     3|Saundercock, Mr. ...|  male|20.0|    0|    0|       A/5. 2151|   8.05|Default|       S|\n",
      "|         14|       0|     3|Andersson, Mr. An...|  male|39.0|    1|    5|          347082| 31.275|Default|       S|\n",
      "|         15|       0|     3|Vestrom, Miss. Hu...|female|14.0|    0|    0|          350406| 7.8542|Default|       S|\n",
      "|         16|       1|     2|Hewlett, Mrs. (Ma...|female|55.0|    0|    0|          248706|   16.0|Default|       S|\n",
      "|         17|       0|     3|Rice, Master. Eugene|  male| 2.0|    4|    1|          382652| 29.125|Default|       Q|\n",
      "|         18|       1|     2|Williams, Mr. Cha...|  male|null|    0|    0|          244373|   13.0|Default|       S|\n",
      "|         19|       0|     3|Vander Planke, Mr...|female|31.0|    1|    0|          345763|   18.0|Default|       S|\n",
      "|         20|       1|     3|Masselmani, Mrs. ...|female|null|    0|    0|            2649|  7.225|Default|       C|\n",
      "+-----------+--------+------+--------------------+------+----+-----+-----+----------------+-------+-------+--------+\n",
      "only showing top 20 rows\n",
      "\n"
     ]
    }
   ],
   "source": [
    "df.na.fill('Default').show()"
   ]
  },
  {
   "cell_type": "code",
   "execution_count": 146,
   "metadata": {},
   "outputs": [
    {
     "name": "stdout",
     "output_type": "stream",
     "text": [
      "+-----------+--------+------+--------------------+------+----+-----+-----+----------------+-------+-----+--------+\n",
      "|PassengerId|Survived|Pclass|                Name|   Sex| Age|SibSp|Parch|          Ticket|   Fare|Cabin|Embarked|\n",
      "+-----------+--------+------+--------------------+------+----+-----+-----+----------------+-------+-----+--------+\n",
      "|          1|       0|     3|Braund, Mr. Owen ...|  male|22.0|    1|    0|       A/5 21171|   7.25| null|       S|\n",
      "|          2|       1|     1|Cumings, Mrs. Joh...|female|38.0|    1|    0|        PC 17599|71.2833|  C85|       C|\n",
      "|          3|       1|     3|Heikkinen, Miss. ...|female|26.0|    0|    0|STON/O2. 3101282|  7.925| null|       S|\n",
      "|          4|       1|     1|Futrelle, Mrs. Ja...|female|35.0|    1|    0|          113803|   53.1| C123|       S|\n",
      "|          5|       0|     3|Allen, Mr. Willia...|  male|35.0|    0|    0|          373450|   8.05| null|       S|\n",
      "|          6|       0|     3|    Moran, Mr. James|  male| 0.0|    0|    0|          330877| 8.4583| null|       Q|\n",
      "|          7|       0|     1|McCarthy, Mr. Tim...|  male|54.0|    0|    0|           17463|51.8625|  E46|       S|\n",
      "|          8|       0|     3|Palsson, Master. ...|  male| 2.0|    3|    1|          349909| 21.075| null|       S|\n",
      "|          9|       1|     3|Johnson, Mrs. Osc...|female|27.0|    0|    2|          347742|11.1333| null|       S|\n",
      "|         10|       1|     2|Nasser, Mrs. Nich...|female|14.0|    1|    0|          237736|30.0708| null|       C|\n",
      "|         11|       1|     3|Sandstrom, Miss. ...|female| 4.0|    1|    1|         PP 9549|   16.7|   G6|       S|\n",
      "|         12|       1|     1|Bonnell, Miss. El...|female|58.0|    0|    0|          113783|  26.55| C103|       S|\n",
      "|         13|       0|     3|Saundercock, Mr. ...|  male|20.0|    0|    0|       A/5. 2151|   8.05| null|       S|\n",
      "|         14|       0|     3|Andersson, Mr. An...|  male|39.0|    1|    5|          347082| 31.275| null|       S|\n",
      "|         15|       0|     3|Vestrom, Miss. Hu...|female|14.0|    0|    0|          350406| 7.8542| null|       S|\n",
      "|         16|       1|     2|Hewlett, Mrs. (Ma...|female|55.0|    0|    0|          248706|   16.0| null|       S|\n",
      "|         17|       0|     3|Rice, Master. Eugene|  male| 2.0|    4|    1|          382652| 29.125| null|       Q|\n",
      "|         18|       1|     2|Williams, Mr. Cha...|  male| 0.0|    0|    0|          244373|   13.0| null|       S|\n",
      "|         19|       0|     3|Vander Planke, Mr...|female|31.0|    1|    0|          345763|   18.0| null|       S|\n",
      "|         20|       1|     3|Masselmani, Mrs. ...|female| 0.0|    0|    0|            2649|  7.225| null|       C|\n",
      "+-----------+--------+------+--------------------+------+----+-----+-----+----------------+-------+-----+--------+\n",
      "only showing top 20 rows\n",
      "\n"
     ]
    }
   ],
   "source": [
    "df.na.fill(0).show()"
   ]
  },
  {
   "cell_type": "code",
   "execution_count": 147,
   "metadata": {},
   "outputs": [
    {
     "name": "stdout",
     "output_type": "stream",
     "text": [
      "+-----------+--------+------+--------------------+------+----+-----+-----+----------------+-------+-----+--------+\n",
      "|PassengerId|Survived|Pclass|                Name|   Sex| Age|SibSp|Parch|          Ticket|   Fare|Cabin|Embarked|\n",
      "+-----------+--------+------+--------------------+------+----+-----+-----+----------------+-------+-----+--------+\n",
      "|          1|       0|     3|Braund, Mr. Owen ...|  male|22.0|    1|    0|       A/5 21171|   7.25| null|       S|\n",
      "|          2|       1|     1|Cumings, Mrs. Joh...|female|38.0|    1|    0|        PC 17599|71.2833|  C85|       C|\n",
      "|          3|       1|     3|Heikkinen, Miss. ...|female|26.0|    0|    0|STON/O2. 3101282|  7.925| null|       S|\n",
      "|          4|       1|     1|Futrelle, Mrs. Ja...|female|35.0|    1|    0|          113803|   53.1| C123|       S|\n",
      "|          5|       0|     3|Allen, Mr. Willia...|  male|35.0|    0|    0|          373450|   8.05| null|       S|\n",
      "|          6|       0|     3|    Moran, Mr. James|  male|null|    0|    0|          330877| 8.4583| null|       Q|\n",
      "|          7|       0|     1|McCarthy, Mr. Tim...|  male|54.0|    0|    0|           17463|51.8625|  E46|       S|\n",
      "|          8|       0|     3|Palsson, Master. ...|  male| 2.0|    3|    1|          349909| 21.075| null|       S|\n",
      "|          9|       1|     3|Johnson, Mrs. Osc...|female|27.0|    0|    2|          347742|11.1333| null|       S|\n",
      "|         10|       1|     2|Nasser, Mrs. Nich...|female|14.0|    1|    0|          237736|30.0708| null|       C|\n",
      "|         11|       1|     3|Sandstrom, Miss. ...|female| 4.0|    1|    1|         PP 9549|   16.7|   G6|       S|\n",
      "|         12|       1|     1|Bonnell, Miss. El...|female|58.0|    0|    0|          113783|  26.55| C103|       S|\n",
      "|         13|       0|     3|Saundercock, Mr. ...|  male|20.0|    0|    0|       A/5. 2151|   8.05| null|       S|\n",
      "|         14|       0|     3|Andersson, Mr. An...|  male|39.0|    1|    5|          347082| 31.275| null|       S|\n",
      "|         15|       0|     3|Vestrom, Miss. Hu...|female|14.0|    0|    0|          350406| 7.8542| null|       S|\n",
      "|         16|       1|     2|Hewlett, Mrs. (Ma...|female|55.0|    0|    0|          248706|   16.0| null|       S|\n",
      "|         17|       0|     3|Rice, Master. Eugene|  male| 2.0|    4|    1|          382652| 29.125| null|       Q|\n",
      "|         18|       1|     2|Williams, Mr. Cha...|  male|null|    0|    0|          244373|   13.0| null|       S|\n",
      "|         19|       0|     3|Vander Planke, Mr...|female|31.0|    1|    0|          345763|   18.0| null|       S|\n",
      "|         20|       1|     3|Masselmani, Mrs. ...|female|null|    0|    0|            2649|  7.225| null|       C|\n",
      "+-----------+--------+------+--------------------+------+----+-----+-----+----------------+-------+-----+--------+\n",
      "only showing top 20 rows\n",
      "\n"
     ]
    }
   ],
   "source": [
    "df.na.fill('No Name',subset=['Name']).show()"
   ]
  },
  {
   "cell_type": "code",
   "execution_count": 150,
   "metadata": {},
   "outputs": [
    {
     "data": {
      "text/plain": [
       "[Row(avg(Age)=29.69911764705882)]"
      ]
     },
     "execution_count": 150,
     "metadata": {},
     "output_type": "execute_result"
    }
   ],
   "source": [
    "mean_val = df.select(F.mean(df['Age'])).collect()\n",
    "\n",
    "# Weird nested formatting of Row object!\n",
    "mean_val[0][0]"
   ]
  },
  {
   "cell_type": "code",
   "execution_count": 153,
   "metadata": {},
   "outputs": [
    {
     "data": {
      "text/plain": [
       "[Row(PassengerId=1, Survived=0, Pclass=3, Name='Braund, Mr. Owen Harris', Sex='male', Age=22.0, SibSp=1, Parch=0, Ticket='A/5 21171', Fare=7.25, Cabin=None, Embarked='S'),\n",
       " Row(PassengerId=2, Survived=1, Pclass=1, Name='Cumings, Mrs. John Bradley (Florence Briggs Thayer)', Sex='female', Age=38.0, SibSp=1, Parch=0, Ticket='PC 17599', Fare=71.2833, Cabin='C85', Embarked='C'),\n",
       " Row(PassengerId=3, Survived=1, Pclass=3, Name='Heikkinen, Miss. Laina', Sex='female', Age=26.0, SibSp=0, Parch=0, Ticket='STON/O2. 3101282', Fare=7.925, Cabin=None, Embarked='S'),\n",
       " Row(PassengerId=4, Survived=1, Pclass=1, Name='Futrelle, Mrs. Jacques Heath (Lily May Peel)', Sex='female', Age=35.0, SibSp=1, Parch=0, Ticket='113803', Fare=53.1, Cabin='C123', Embarked='S'),\n",
       " Row(PassengerId=5, Survived=0, Pclass=3, Name='Allen, Mr. William Henry', Sex='male', Age=35.0, SibSp=0, Parch=0, Ticket='373450', Fare=8.05, Cabin=None, Embarked='S'),\n",
       " Row(PassengerId=6, Survived=0, Pclass=3, Name='Moran, Mr. James', Sex='male', Age=29.69911764705882, SibSp=0, Parch=0, Ticket='330877', Fare=8.4583, Cabin=None, Embarked='Q'),\n",
       " Row(PassengerId=7, Survived=0, Pclass=1, Name='McCarthy, Mr. Timothy J', Sex='male', Age=54.0, SibSp=0, Parch=0, Ticket='17463', Fare=51.8625, Cabin='E46', Embarked='S'),\n",
       " Row(PassengerId=8, Survived=0, Pclass=3, Name='Palsson, Master. Gosta Leonard', Sex='male', Age=2.0, SibSp=3, Parch=1, Ticket='349909', Fare=21.075, Cabin=None, Embarked='S'),\n",
       " Row(PassengerId=9, Survived=1, Pclass=3, Name='Johnson, Mrs. Oscar W (Elisabeth Vilhelmina Berg)', Sex='female', Age=27.0, SibSp=0, Parch=2, Ticket='347742', Fare=11.1333, Cabin=None, Embarked='S'),\n",
       " Row(PassengerId=10, Survived=1, Pclass=2, Name='Nasser, Mrs. Nicholas (Adele Achem)', Sex='female', Age=14.0, SibSp=1, Parch=0, Ticket='237736', Fare=30.0708, Cabin=None, Embarked='C'),\n",
       " Row(PassengerId=11, Survived=1, Pclass=3, Name='Sandstrom, Miss. Marguerite Rut', Sex='female', Age=4.0, SibSp=1, Parch=1, Ticket='PP 9549', Fare=16.7, Cabin='G6', Embarked='S'),\n",
       " Row(PassengerId=12, Survived=1, Pclass=1, Name='Bonnell, Miss. Elizabeth', Sex='female', Age=58.0, SibSp=0, Parch=0, Ticket='113783', Fare=26.55, Cabin='C103', Embarked='S'),\n",
       " Row(PassengerId=13, Survived=0, Pclass=3, Name='Saundercock, Mr. William Henry', Sex='male', Age=20.0, SibSp=0, Parch=0, Ticket='A/5. 2151', Fare=8.05, Cabin=None, Embarked='S'),\n",
       " Row(PassengerId=14, Survived=0, Pclass=3, Name='Andersson, Mr. Anders Johan', Sex='male', Age=39.0, SibSp=1, Parch=5, Ticket='347082', Fare=31.275, Cabin=None, Embarked='S'),\n",
       " Row(PassengerId=15, Survived=0, Pclass=3, Name='Vestrom, Miss. Hulda Amanda Adolfina', Sex='female', Age=14.0, SibSp=0, Parch=0, Ticket='350406', Fare=7.8542, Cabin=None, Embarked='S'),\n",
       " Row(PassengerId=16, Survived=1, Pclass=2, Name='Hewlett, Mrs. (Mary D Kingcome) ', Sex='female', Age=55.0, SibSp=0, Parch=0, Ticket='248706', Fare=16.0, Cabin=None, Embarked='S'),\n",
       " Row(PassengerId=17, Survived=0, Pclass=3, Name='Rice, Master. Eugene', Sex='male', Age=2.0, SibSp=4, Parch=1, Ticket='382652', Fare=29.125, Cabin=None, Embarked='Q'),\n",
       " Row(PassengerId=18, Survived=1, Pclass=2, Name='Williams, Mr. Charles Eugene', Sex='male', Age=29.69911764705882, SibSp=0, Parch=0, Ticket='244373', Fare=13.0, Cabin=None, Embarked='S'),\n",
       " Row(PassengerId=19, Survived=0, Pclass=3, Name='Vander Planke, Mrs. Julius (Emelia Maria Vandemoortele)', Sex='female', Age=31.0, SibSp=1, Parch=0, Ticket='345763', Fare=18.0, Cabin=None, Embarked='S'),\n",
       " Row(PassengerId=20, Survived=1, Pclass=3, Name='Masselmani, Mrs. Fatima', Sex='female', Age=29.69911764705882, SibSp=0, Parch=0, Ticket='2649', Fare=7.225, Cabin=None, Embarked='C'),\n",
       " Row(PassengerId=21, Survived=0, Pclass=2, Name='Fynney, Mr. Joseph J', Sex='male', Age=35.0, SibSp=0, Parch=0, Ticket='239865', Fare=26.0, Cabin=None, Embarked='S'),\n",
       " Row(PassengerId=22, Survived=1, Pclass=2, Name='Beesley, Mr. Lawrence', Sex='male', Age=34.0, SibSp=0, Parch=0, Ticket='248698', Fare=13.0, Cabin='D56', Embarked='S'),\n",
       " Row(PassengerId=23, Survived=1, Pclass=3, Name='\"McGowan, Miss. Anna \"\"Annie\"\"\"', Sex='female', Age=15.0, SibSp=0, Parch=0, Ticket='330923', Fare=8.0292, Cabin=None, Embarked='Q'),\n",
       " Row(PassengerId=24, Survived=1, Pclass=1, Name='Sloper, Mr. William Thompson', Sex='male', Age=28.0, SibSp=0, Parch=0, Ticket='113788', Fare=35.5, Cabin='A6', Embarked='S'),\n",
       " Row(PassengerId=25, Survived=0, Pclass=3, Name='Palsson, Miss. Torborg Danira', Sex='female', Age=8.0, SibSp=3, Parch=1, Ticket='349909', Fare=21.075, Cabin=None, Embarked='S'),\n",
       " Row(PassengerId=26, Survived=1, Pclass=3, Name='Asplund, Mrs. Carl Oscar (Selma Augusta Emilia Johansson)', Sex='female', Age=38.0, SibSp=1, Parch=5, Ticket='347077', Fare=31.3875, Cabin=None, Embarked='S'),\n",
       " Row(PassengerId=27, Survived=0, Pclass=3, Name='Emir, Mr. Farred Chehab', Sex='male', Age=29.69911764705882, SibSp=0, Parch=0, Ticket='2631', Fare=7.225, Cabin=None, Embarked='C'),\n",
       " Row(PassengerId=28, Survived=0, Pclass=1, Name='Fortune, Mr. Charles Alexander', Sex='male', Age=19.0, SibSp=3, Parch=2, Ticket='19950', Fare=263.0, Cabin='C23 C25 C27', Embarked='S'),\n",
       " Row(PassengerId=29, Survived=1, Pclass=3, Name='\"O\\'Dwyer, Miss. Ellen \"\"Nellie\"\"\"', Sex='female', Age=29.69911764705882, SibSp=0, Parch=0, Ticket='330959', Fare=7.8792, Cabin=None, Embarked='Q'),\n",
       " Row(PassengerId=30, Survived=0, Pclass=3, Name='Todoroff, Mr. Lalio', Sex='male', Age=29.69911764705882, SibSp=0, Parch=0, Ticket='349216', Fare=7.8958, Cabin=None, Embarked='S'),\n",
       " Row(PassengerId=31, Survived=0, Pclass=1, Name='Uruchurtu, Don. Manuel E', Sex='male', Age=40.0, SibSp=0, Parch=0, Ticket='PC 17601', Fare=27.7208, Cabin=None, Embarked='C'),\n",
       " Row(PassengerId=32, Survived=1, Pclass=1, Name='Spencer, Mrs. William Augustus (Marie Eugenie)', Sex='female', Age=29.69911764705882, SibSp=1, Parch=0, Ticket='PC 17569', Fare=146.5208, Cabin='B78', Embarked='C'),\n",
       " Row(PassengerId=33, Survived=1, Pclass=3, Name='Glynn, Miss. Mary Agatha', Sex='female', Age=29.69911764705882, SibSp=0, Parch=0, Ticket='335677', Fare=7.75, Cabin=None, Embarked='Q'),\n",
       " Row(PassengerId=34, Survived=0, Pclass=2, Name='Wheadon, Mr. Edward H', Sex='male', Age=66.0, SibSp=0, Parch=0, Ticket='C.A. 24579', Fare=10.5, Cabin=None, Embarked='S'),\n",
       " Row(PassengerId=35, Survived=0, Pclass=1, Name='Meyer, Mr. Edgar Joseph', Sex='male', Age=28.0, SibSp=1, Parch=0, Ticket='PC 17604', Fare=82.1708, Cabin=None, Embarked='C'),\n",
       " Row(PassengerId=36, Survived=0, Pclass=1, Name='Holverson, Mr. Alexander Oskar', Sex='male', Age=42.0, SibSp=1, Parch=0, Ticket='113789', Fare=52.0, Cabin=None, Embarked='S'),\n",
       " Row(PassengerId=37, Survived=1, Pclass=3, Name='Mamee, Mr. Hanna', Sex='male', Age=29.69911764705882, SibSp=0, Parch=0, Ticket='2677', Fare=7.2292, Cabin=None, Embarked='C'),\n",
       " Row(PassengerId=38, Survived=0, Pclass=3, Name='Cann, Mr. Ernest Charles', Sex='male', Age=21.0, SibSp=0, Parch=0, Ticket='A./5. 2152', Fare=8.05, Cabin=None, Embarked='S'),\n",
       " Row(PassengerId=39, Survived=0, Pclass=3, Name='Vander Planke, Miss. Augusta Maria', Sex='female', Age=18.0, SibSp=2, Parch=0, Ticket='345764', Fare=18.0, Cabin=None, Embarked='S'),\n",
       " Row(PassengerId=40, Survived=1, Pclass=3, Name='Nicola-Yarred, Miss. Jamila', Sex='female', Age=14.0, SibSp=1, Parch=0, Ticket='2651', Fare=11.2417, Cabin=None, Embarked='C'),\n",
       " Row(PassengerId=41, Survived=0, Pclass=3, Name='Ahlin, Mrs. Johan (Johanna Persdotter Larsson)', Sex='female', Age=40.0, SibSp=1, Parch=0, Ticket='7546', Fare=9.475, Cabin=None, Embarked='S'),\n",
       " Row(PassengerId=42, Survived=0, Pclass=2, Name='Turpin, Mrs. William John Robert (Dorothy Ann Wonnacott)', Sex='female', Age=27.0, SibSp=1, Parch=0, Ticket='11668', Fare=21.0, Cabin=None, Embarked='S'),\n",
       " Row(PassengerId=43, Survived=0, Pclass=3, Name='Kraeff, Mr. Theodor', Sex='male', Age=29.69911764705882, SibSp=0, Parch=0, Ticket='349253', Fare=7.8958, Cabin=None, Embarked='C'),\n",
       " Row(PassengerId=44, Survived=1, Pclass=2, Name='Laroche, Miss. Simonne Marie Anne Andree', Sex='female', Age=3.0, SibSp=1, Parch=2, Ticket='SC/Paris 2123', Fare=41.5792, Cabin=None, Embarked='C'),\n",
       " Row(PassengerId=45, Survived=1, Pclass=3, Name='Devaney, Miss. Margaret Delia', Sex='female', Age=19.0, SibSp=0, Parch=0, Ticket='330958', Fare=7.8792, Cabin=None, Embarked='Q'),\n",
       " Row(PassengerId=46, Survived=0, Pclass=3, Name='Rogers, Mr. William John', Sex='male', Age=29.69911764705882, SibSp=0, Parch=0, Ticket='S.C./A.4. 23567', Fare=8.05, Cabin=None, Embarked='S'),\n",
       " Row(PassengerId=47, Survived=0, Pclass=3, Name='Lennon, Mr. Denis', Sex='male', Age=29.69911764705882, SibSp=1, Parch=0, Ticket='370371', Fare=15.5, Cabin=None, Embarked='Q'),\n",
       " Row(PassengerId=48, Survived=1, Pclass=3, Name=\"O'Driscoll, Miss. Bridget\", Sex='female', Age=29.69911764705882, SibSp=0, Parch=0, Ticket='14311', Fare=7.75, Cabin=None, Embarked='Q'),\n",
       " Row(PassengerId=49, Survived=0, Pclass=3, Name='Samaan, Mr. Youssef', Sex='male', Age=29.69911764705882, SibSp=2, Parch=0, Ticket='2662', Fare=21.6792, Cabin=None, Embarked='C'),\n",
       " Row(PassengerId=50, Survived=0, Pclass=3, Name='Arnold-Franchi, Mrs. Josef (Josefine Franchi)', Sex='female', Age=18.0, SibSp=1, Parch=0, Ticket='349237', Fare=17.8, Cabin=None, Embarked='S'),\n",
       " Row(PassengerId=51, Survived=0, Pclass=3, Name='Panula, Master. Juha Niilo', Sex='male', Age=7.0, SibSp=4, Parch=1, Ticket='3101295', Fare=39.6875, Cabin=None, Embarked='S'),\n",
       " Row(PassengerId=52, Survived=0, Pclass=3, Name='Nosworthy, Mr. Richard Cater', Sex='male', Age=21.0, SibSp=0, Parch=0, Ticket='A/4. 39886', Fare=7.8, Cabin=None, Embarked='S'),\n",
       " Row(PassengerId=53, Survived=1, Pclass=1, Name='Harper, Mrs. Henry Sleeper (Myna Haxtun)', Sex='female', Age=49.0, SibSp=1, Parch=0, Ticket='PC 17572', Fare=76.7292, Cabin='D33', Embarked='C'),\n",
       " Row(PassengerId=54, Survived=1, Pclass=2, Name='Faunthorpe, Mrs. Lizzie (Elizabeth Anne Wilkinson)', Sex='female', Age=29.0, SibSp=1, Parch=0, Ticket='2926', Fare=26.0, Cabin=None, Embarked='S'),\n",
       " Row(PassengerId=55, Survived=0, Pclass=1, Name='Ostby, Mr. Engelhart Cornelius', Sex='male', Age=65.0, SibSp=0, Parch=1, Ticket='113509', Fare=61.9792, Cabin='B30', Embarked='C'),\n",
       " Row(PassengerId=56, Survived=1, Pclass=1, Name='Woolner, Mr. Hugh', Sex='male', Age=29.69911764705882, SibSp=0, Parch=0, Ticket='19947', Fare=35.5, Cabin='C52', Embarked='S'),\n",
       " Row(PassengerId=57, Survived=1, Pclass=2, Name='Rugg, Miss. Emily', Sex='female', Age=21.0, SibSp=0, Parch=0, Ticket='C.A. 31026', Fare=10.5, Cabin=None, Embarked='S'),\n",
       " Row(PassengerId=58, Survived=0, Pclass=3, Name='Novel, Mr. Mansouer', Sex='male', Age=28.5, SibSp=0, Parch=0, Ticket='2697', Fare=7.2292, Cabin=None, Embarked='C'),\n",
       " Row(PassengerId=59, Survived=1, Pclass=2, Name='West, Miss. Constance Mirium', Sex='female', Age=5.0, SibSp=1, Parch=2, Ticket='C.A. 34651', Fare=27.75, Cabin=None, Embarked='S'),\n",
       " Row(PassengerId=60, Survived=0, Pclass=3, Name='Goodwin, Master. William Frederick', Sex='male', Age=11.0, SibSp=5, Parch=2, Ticket='CA 2144', Fare=46.9, Cabin=None, Embarked='S'),\n",
       " Row(PassengerId=61, Survived=0, Pclass=3, Name='Sirayanian, Mr. Orsen', Sex='male', Age=22.0, SibSp=0, Parch=0, Ticket='2669', Fare=7.2292, Cabin=None, Embarked='C'),\n",
       " Row(PassengerId=62, Survived=1, Pclass=1, Name='Icard, Miss. Amelie', Sex='female', Age=38.0, SibSp=0, Parch=0, Ticket='113572', Fare=80.0, Cabin='B28', Embarked=None),\n",
       " Row(PassengerId=63, Survived=0, Pclass=1, Name='Harris, Mr. Henry Birkhardt', Sex='male', Age=45.0, SibSp=1, Parch=0, Ticket='36973', Fare=83.475, Cabin='C83', Embarked='S'),\n",
       " Row(PassengerId=64, Survived=0, Pclass=3, Name='Skoog, Master. Harald', Sex='male', Age=4.0, SibSp=3, Parch=2, Ticket='347088', Fare=27.9, Cabin=None, Embarked='S'),\n",
       " Row(PassengerId=65, Survived=0, Pclass=1, Name='Stewart, Mr. Albert A', Sex='male', Age=29.69911764705882, SibSp=0, Parch=0, Ticket='PC 17605', Fare=27.7208, Cabin=None, Embarked='C'),\n",
       " Row(PassengerId=66, Survived=1, Pclass=3, Name='Moubarek, Master. Gerios', Sex='male', Age=29.69911764705882, SibSp=1, Parch=1, Ticket='2661', Fare=15.2458, Cabin=None, Embarked='C'),\n",
       " Row(PassengerId=67, Survived=1, Pclass=2, Name='Nye, Mrs. (Elizabeth Ramell)', Sex='female', Age=29.0, SibSp=0, Parch=0, Ticket='C.A. 29395', Fare=10.5, Cabin='F33', Embarked='S'),\n",
       " Row(PassengerId=68, Survived=0, Pclass=3, Name='Crease, Mr. Ernest James', Sex='male', Age=19.0, SibSp=0, Parch=0, Ticket='S.P. 3464', Fare=8.1583, Cabin=None, Embarked='S'),\n",
       " Row(PassengerId=69, Survived=1, Pclass=3, Name='Andersson, Miss. Erna Alexandra', Sex='female', Age=17.0, SibSp=4, Parch=2, Ticket='3101281', Fare=7.925, Cabin=None, Embarked='S'),\n",
       " Row(PassengerId=70, Survived=0, Pclass=3, Name='Kink, Mr. Vincenz', Sex='male', Age=26.0, SibSp=2, Parch=0, Ticket='315151', Fare=8.6625, Cabin=None, Embarked='S'),\n",
       " Row(PassengerId=71, Survived=0, Pclass=2, Name='Jenkin, Mr. Stephen Curnow', Sex='male', Age=32.0, SibSp=0, Parch=0, Ticket='C.A. 33111', Fare=10.5, Cabin=None, Embarked='S'),\n",
       " Row(PassengerId=72, Survived=0, Pclass=3, Name='Goodwin, Miss. Lillian Amy', Sex='female', Age=16.0, SibSp=5, Parch=2, Ticket='CA 2144', Fare=46.9, Cabin=None, Embarked='S'),\n",
       " Row(PassengerId=73, Survived=0, Pclass=2, Name='Hood, Mr. Ambrose Jr', Sex='male', Age=21.0, SibSp=0, Parch=0, Ticket='S.O.C. 14879', Fare=73.5, Cabin=None, Embarked='S'),\n",
       " Row(PassengerId=74, Survived=0, Pclass=3, Name='Chronopoulos, Mr. Apostolos', Sex='male', Age=26.0, SibSp=1, Parch=0, Ticket='2680', Fare=14.4542, Cabin=None, Embarked='C'),\n",
       " Row(PassengerId=75, Survived=1, Pclass=3, Name='Bing, Mr. Lee', Sex='male', Age=32.0, SibSp=0, Parch=0, Ticket='1601', Fare=56.4958, Cabin=None, Embarked='S'),\n",
       " Row(PassengerId=76, Survived=0, Pclass=3, Name='Moen, Mr. Sigurd Hansen', Sex='male', Age=25.0, SibSp=0, Parch=0, Ticket='348123', Fare=7.65, Cabin='F G73', Embarked='S'),\n",
       " Row(PassengerId=77, Survived=0, Pclass=3, Name='Staneff, Mr. Ivan', Sex='male', Age=29.69911764705882, SibSp=0, Parch=0, Ticket='349208', Fare=7.8958, Cabin=None, Embarked='S'),\n",
       " Row(PassengerId=78, Survived=0, Pclass=3, Name='Moutal, Mr. Rahamin Haim', Sex='male', Age=29.69911764705882, SibSp=0, Parch=0, Ticket='374746', Fare=8.05, Cabin=None, Embarked='S'),\n",
       " Row(PassengerId=79, Survived=1, Pclass=2, Name='Caldwell, Master. Alden Gates', Sex='male', Age=0.83, SibSp=0, Parch=2, Ticket='248738', Fare=29.0, Cabin=None, Embarked='S'),\n",
       " Row(PassengerId=80, Survived=1, Pclass=3, Name='Dowdell, Miss. Elizabeth', Sex='female', Age=30.0, SibSp=0, Parch=0, Ticket='364516', Fare=12.475, Cabin=None, Embarked='S'),\n",
       " Row(PassengerId=81, Survived=0, Pclass=3, Name='Waelens, Mr. Achille', Sex='male', Age=22.0, SibSp=0, Parch=0, Ticket='345767', Fare=9.0, Cabin=None, Embarked='S'),\n",
       " Row(PassengerId=82, Survived=1, Pclass=3, Name='Sheerlinck, Mr. Jan Baptist', Sex='male', Age=29.0, SibSp=0, Parch=0, Ticket='345779', Fare=9.5, Cabin=None, Embarked='S'),\n",
       " Row(PassengerId=83, Survived=1, Pclass=3, Name='McDermott, Miss. Brigdet Delia', Sex='female', Age=29.69911764705882, SibSp=0, Parch=0, Ticket='330932', Fare=7.7875, Cabin=None, Embarked='Q'),\n",
       " Row(PassengerId=84, Survived=0, Pclass=1, Name='Carrau, Mr. Francisco M', Sex='male', Age=28.0, SibSp=0, Parch=0, Ticket='113059', Fare=47.1, Cabin=None, Embarked='S'),\n",
       " Row(PassengerId=85, Survived=1, Pclass=2, Name='Ilett, Miss. Bertha', Sex='female', Age=17.0, SibSp=0, Parch=0, Ticket='SO/C 14885', Fare=10.5, Cabin=None, Embarked='S'),\n",
       " Row(PassengerId=86, Survived=1, Pclass=3, Name='Backstrom, Mrs. Karl Alfred (Maria Mathilda Gustafsson)', Sex='female', Age=33.0, SibSp=3, Parch=0, Ticket='3101278', Fare=15.85, Cabin=None, Embarked='S'),\n",
       " Row(PassengerId=87, Survived=0, Pclass=3, Name='Ford, Mr. William Neal', Sex='male', Age=16.0, SibSp=1, Parch=3, Ticket='W./C. 6608', Fare=34.375, Cabin=None, Embarked='S'),\n",
       " Row(PassengerId=88, Survived=0, Pclass=3, Name='Slocovski, Mr. Selman Francis', Sex='male', Age=29.69911764705882, SibSp=0, Parch=0, Ticket='SOTON/OQ 392086', Fare=8.05, Cabin=None, Embarked='S'),\n",
       " Row(PassengerId=89, Survived=1, Pclass=1, Name='Fortune, Miss. Mabel Helen', Sex='female', Age=23.0, SibSp=3, Parch=2, Ticket='19950', Fare=263.0, Cabin='C23 C25 C27', Embarked='S'),\n",
       " Row(PassengerId=90, Survived=0, Pclass=3, Name='Celotti, Mr. Francesco', Sex='male', Age=24.0, SibSp=0, Parch=0, Ticket='343275', Fare=8.05, Cabin=None, Embarked='S'),\n",
       " Row(PassengerId=91, Survived=0, Pclass=3, Name='Christmann, Mr. Emil', Sex='male', Age=29.0, SibSp=0, Parch=0, Ticket='343276', Fare=8.05, Cabin=None, Embarked='S'),\n",
       " Row(PassengerId=92, Survived=0, Pclass=3, Name='Andreasson, Mr. Paul Edvin', Sex='male', Age=20.0, SibSp=0, Parch=0, Ticket='347466', Fare=7.8542, Cabin=None, Embarked='S'),\n",
       " Row(PassengerId=93, Survived=0, Pclass=1, Name='Chaffee, Mr. Herbert Fuller', Sex='male', Age=46.0, SibSp=1, Parch=0, Ticket='W.E.P. 5734', Fare=61.175, Cabin='E31', Embarked='S'),\n",
       " Row(PassengerId=94, Survived=0, Pclass=3, Name='Dean, Mr. Bertram Frank', Sex='male', Age=26.0, SibSp=1, Parch=2, Ticket='C.A. 2315', Fare=20.575, Cabin=None, Embarked='S'),\n",
       " Row(PassengerId=95, Survived=0, Pclass=3, Name='Coxon, Mr. Daniel', Sex='male', Age=59.0, SibSp=0, Parch=0, Ticket='364500', Fare=7.25, Cabin=None, Embarked='S'),\n",
       " Row(PassengerId=96, Survived=0, Pclass=3, Name='Shorney, Mr. Charles Joseph', Sex='male', Age=29.69911764705882, SibSp=0, Parch=0, Ticket='374910', Fare=8.05, Cabin=None, Embarked='S'),\n",
       " Row(PassengerId=97, Survived=0, Pclass=1, Name='Goldschmidt, Mr. George B', Sex='male', Age=71.0, SibSp=0, Parch=0, Ticket='PC 17754', Fare=34.6542, Cabin='A5', Embarked='C'),\n",
       " Row(PassengerId=98, Survived=1, Pclass=1, Name='Greenfield, Mr. William Bertram', Sex='male', Age=23.0, SibSp=0, Parch=1, Ticket='PC 17759', Fare=63.3583, Cabin='D10 D12', Embarked='C'),\n",
       " Row(PassengerId=99, Survived=1, Pclass=2, Name='Doling, Mrs. John T (Ada Julia Bone)', Sex='female', Age=34.0, SibSp=0, Parch=1, Ticket='231919', Fare=23.0, Cabin=None, Embarked='S'),\n",
       " Row(PassengerId=100, Survived=0, Pclass=2, Name='Kantor, Mr. Sinai', Sex='male', Age=34.0, SibSp=1, Parch=0, Ticket='244367', Fare=26.0, Cabin=None, Embarked='S')]"
      ]
     },
     "execution_count": 153,
     "metadata": {},
     "output_type": "execute_result"
    }
   ],
   "source": [
    "df.na.fill(mean_val[0][0],[\"Age\"]).head(100)"
   ]
  },
  {
   "cell_type": "code",
   "execution_count": null,
   "metadata": {},
   "outputs": [],
   "source": []
  }
 ],
 "metadata": {
  "kernelspec": {
   "display_name": "Python 3",
   "language": "python",
   "name": "python3"
  },
  "language_info": {
   "codemirror_mode": {
    "name": "ipython",
    "version": 3
   },
   "file_extension": ".py",
   "mimetype": "text/x-python",
   "name": "python",
   "nbconvert_exporter": "python",
   "pygments_lexer": "ipython3",
   "version": "3.7.9"
  }
 },
 "nbformat": 4,
 "nbformat_minor": 4
}
